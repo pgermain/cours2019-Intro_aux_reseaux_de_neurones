{
 "cells": [
  {
   "cell_type": "markdown",
   "metadata": {},
   "source": [
    "# Introduction à Python  --  Partie 1: Types, Conditions, Boucles\n",
    "\n",
    "Matériel de cours rédigé par Pascal Germain, 2019\n",
    "\n",
    "*********************"
   ]
  },
  {
   "cell_type": "markdown",
   "metadata": {},
   "source": [
    "## Opérateurs arithmétiques\n",
    "\n",
    "Commencons par de simples opérations arithmétiques afin de se familiariser à *Python* et *Jupyther notebook*.\n",
    "\n",
    "Sélectionnez une cellule, puis appuyez sur *MAJUSCULE+ENTRÉE* pour exécuter son contenu."
   ]
  },
  {
   "cell_type": "code",
   "execution_count": null,
   "metadata": {},
   "outputs": [],
   "source": [
    "# On peut se servir du «notebook» comme une calculatrice\n",
    "1 + 2 + 3"
   ]
  },
  {
   "cell_type": "code",
   "execution_count": null,
   "metadata": {},
   "outputs": [],
   "source": [
    "# ou encore pour affecter des variables...\n",
    "a = 1 + 2 + 3 \n",
    "b = 2.0 + 1"
   ]
  },
  {
   "cell_type": "code",
   "execution_count": null,
   "metadata": {},
   "outputs": [],
   "source": [
    "# ...que l'on peut réutiliser par la suite\n",
    "a"
   ]
  },
  {
   "cell_type": "code",
   "execution_count": null,
   "metadata": {},
   "outputs": [],
   "source": [
    "b"
   ]
  },
  {
   "cell_type": "code",
   "execution_count": null,
   "metadata": {},
   "outputs": [],
   "source": [
    "a * b # Multiplication "
   ]
  },
  {
   "cell_type": "code",
   "execution_count": null,
   "metadata": {},
   "outputs": [],
   "source": [
    "a ** 2 # Exposant"
   ]
  },
  {
   "cell_type": "code",
   "execution_count": null,
   "metadata": {},
   "outputs": [],
   "source": [
    "a / 4 # Division"
   ]
  },
  {
   "cell_type": "code",
   "execution_count": null,
   "metadata": {},
   "outputs": [],
   "source": [
    "a // 4 # Division entière"
   ]
  },
  {
   "cell_type": "code",
   "execution_count": null,
   "metadata": {},
   "outputs": [],
   "source": [
    "a % 4 # Modulo"
   ]
  },
  {
   "cell_type": "markdown",
   "metadata": {},
   "source": [
    "**Note:** Vous aurez compris que le caractère  `#`  est une *balise de commentaires*."
   ]
  },
  {
   "cell_type": "code",
   "execution_count": null,
   "metadata": {},
   "outputs": [],
   "source": [
    "a = 6\n",
    "a += 2 # Équivaut à: a = a + 2"
   ]
  },
  {
   "cell_type": "code",
   "execution_count": null,
   "metadata": {},
   "outputs": [],
   "source": [
    "a"
   ]
  },
  {
   "cell_type": "code",
   "execution_count": null,
   "metadata": {},
   "outputs": [],
   "source": [
    "b = 2.0\n",
    "a /= b # Équivaut à: a = a / b"
   ]
  },
  {
   "cell_type": "code",
   "execution_count": null,
   "metadata": {},
   "outputs": [],
   "source": [
    "a"
   ]
  },
  {
   "cell_type": "code",
   "execution_count": null,
   "metadata": {},
   "outputs": [],
   "source": [
    "a *= b + 1.0 # Équivaut à: ...à vous de deviner!"
   ]
  },
  {
   "cell_type": "code",
   "execution_count": null,
   "metadata": {},
   "outputs": [],
   "source": [
    "a"
   ]
  },
  {
   "cell_type": "markdown",
   "metadata": {},
   "source": [
    "## Affichage\n",
    "\n",
    "Lors de l'exécution d'une cellule de code, le *notebook* affiche la valeur de la dernière ligne de la cellule..."
   ]
  },
  {
   "cell_type": "code",
   "execution_count": null,
   "metadata": {},
   "outputs": [],
   "source": [
    "a = 6\n",
    "b = 2.0\n",
    "a"
   ]
  },
  {
   "cell_type": "code",
   "execution_count": null,
   "metadata": {},
   "outputs": [],
   "source": [
    "b"
   ]
  },
  {
   "cell_type": "code",
   "execution_count": null,
   "metadata": {},
   "outputs": [],
   "source": [
    "a + b\n",
    "a - b"
   ]
  },
  {
   "cell_type": "markdown",
   "metadata": {},
   "source": [
    "...sauf si cette dernière ligne se termine par un point-virgule «`;`» ou s'il s'agit d'une affectation."
   ]
  },
  {
   "cell_type": "code",
   "execution_count": null,
   "metadata": {},
   "outputs": [],
   "source": [
    "a + b\n",
    "a - b;"
   ]
  },
  {
   "cell_type": "code",
   "execution_count": null,
   "metadata": {},
   "outputs": [],
   "source": [
    "resultat = a - b"
   ]
  },
  {
   "cell_type": "code",
   "execution_count": null,
   "metadata": {},
   "outputs": [],
   "source": [
    "resultat"
   ]
  },
  {
   "cell_type": "markdown",
   "metadata": {},
   "source": [
    "La commande `print` permet d'afficher ce que l'on veut, lorsqu'on le veut."
   ]
  },
  {
   "cell_type": "code",
   "execution_count": null,
   "metadata": {},
   "outputs": [],
   "source": [
    "print('Soustraction') # La fonction print() affiche le contenu de ses arguments\n",
    "print(\"------------\")\n",
    "resultat = a - b\n",
    "print('a - b =', resultat) # un espace sépare les arguments"
   ]
  },
  {
   "cell_type": "code",
   "execution_count": null,
   "metadata": {},
   "outputs": [],
   "source": [
    "print('Addition')\n",
    "print(\"--------\")\n",
    "resultat = a + b\n",
    "print('a + b =', resultat) \n",
    "resultat # Le résultat de la dernière ligne de la cellule est toujours affiché"
   ]
  },
  {
   "cell_type": "markdown",
   "metadata": {},
   "source": [
    "## Messages d'erreurs"
   ]
  },
  {
   "cell_type": "code",
   "execution_count": null,
   "metadata": {
    "scrolled": true
   },
   "outputs": [],
   "source": [
    "a / 0"
   ]
  },
  {
   "cell_type": "code",
   "execution_count": null,
   "metadata": {},
   "outputs": [],
   "source": [
    "z"
   ]
  },
  {
   "cell_type": "code",
   "execution_count": null,
   "metadata": {},
   "outputs": [],
   "source": [
    "a +"
   ]
  },
  {
   "cell_type": "markdown",
   "metadata": {},
   "source": [
    "*************\n",
    "## Types et structures de données"
   ]
  },
  {
   "cell_type": "markdown",
   "metadata": {},
   "source": [
    "### Nombres entiers et nombres réels"
   ]
  },
  {
   "cell_type": "code",
   "execution_count": null,
   "metadata": {},
   "outputs": [],
   "source": [
    "type(a) # La fonction type retourne le type de l'objet en argument"
   ]
  },
  {
   "cell_type": "code",
   "execution_count": null,
   "metadata": {},
   "outputs": [],
   "source": [
    "type(b)"
   ]
  },
  {
   "cell_type": "code",
   "execution_count": null,
   "metadata": {},
   "outputs": [],
   "source": [
    "type(a - b)"
   ]
  },
  {
   "cell_type": "code",
   "execution_count": null,
   "metadata": {},
   "outputs": [],
   "source": [
    "b_prime = int(b) # Conversion d'un réel en entier\n",
    "print(b, '==>', b_prime)\n",
    "type(b_prime)"
   ]
  },
  {
   "cell_type": "code",
   "execution_count": null,
   "metadata": {},
   "outputs": [],
   "source": [
    "float(a)"
   ]
  },
  {
   "cell_type": "markdown",
   "metadata": {},
   "source": [
    "### Booléens"
   ]
  },
  {
   "cell_type": "code",
   "execution_count": null,
   "metadata": {},
   "outputs": [],
   "source": [
    "v = True\n",
    "f = False"
   ]
  },
  {
   "cell_type": "code",
   "execution_count": null,
   "metadata": {},
   "outputs": [],
   "source": [
    "type(v)"
   ]
  },
  {
   "cell_type": "code",
   "execution_count": null,
   "metadata": {},
   "outputs": [],
   "source": [
    "v and f"
   ]
  },
  {
   "cell_type": "code",
   "execution_count": null,
   "metadata": {},
   "outputs": [],
   "source": [
    "v or f"
   ]
  },
  {
   "cell_type": "code",
   "execution_count": null,
   "metadata": {},
   "outputs": [],
   "source": [
    "v and not f"
   ]
  },
  {
   "cell_type": "code",
   "execution_count": null,
   "metadata": {},
   "outputs": [],
   "source": [
    "a == 6"
   ]
  },
  {
   "cell_type": "code",
   "execution_count": null,
   "metadata": {},
   "outputs": [],
   "source": [
    "a < 6"
   ]
  },
  {
   "cell_type": "code",
   "execution_count": null,
   "metadata": {},
   "outputs": [],
   "source": [
    "a >= 6"
   ]
  },
  {
   "cell_type": "code",
   "execution_count": null,
   "metadata": {},
   "outputs": [],
   "source": [
    "(a == b or b < 3) and (a != -1 or False)"
   ]
  },
  {
   "cell_type": "markdown",
   "metadata": {},
   "source": [
    "### Chaines de caractères"
   ]
  },
  {
   "cell_type": "code",
   "execution_count": null,
   "metadata": {},
   "outputs": [],
   "source": [
    "\"salut\""
   ]
  },
  {
   "cell_type": "code",
   "execution_count": null,
   "metadata": {},
   "outputs": [],
   "source": [
    "un_mot = \"salut\"\n",
    "type(un_mot)"
   ]
  },
  {
   "cell_type": "code",
   "execution_count": null,
   "metadata": {},
   "outputs": [],
   "source": [
    "len(un_mot) # la fonction len() retourne la longueur de la chaîne (c-a-d le nombre de caractères)"
   ]
  },
  {
   "cell_type": "code",
   "execution_count": null,
   "metadata": {},
   "outputs": [],
   "source": [
    "str(a) # Conversion d'un entier en chaîne de caractères"
   ]
  },
  {
   "cell_type": "code",
   "execution_count": null,
   "metadata": {},
   "outputs": [],
   "source": [
    "print(str(a) + str(b))\n",
    "print(str(a), str(b))"
   ]
  },
  {
   "cell_type": "code",
   "execution_count": null,
   "metadata": {},
   "outputs": [],
   "source": [
    "float(str(a) + str(b)) # Conversion d'une chaîne de caractères en réel"
   ]
  },
  {
   "cell_type": "code",
   "execution_count": null,
   "metadata": {},
   "outputs": [],
   "source": [
    "un_mot[3] # Accès au 4e élment de la chaîne de caractère (l'index débute à zéro!)"
   ]
  },
  {
   "cell_type": "code",
   "execution_count": null,
   "metadata": {},
   "outputs": [],
   "source": [
    "un_mot[2:4] # Accès à une sous-chaîne"
   ]
  },
  {
   "cell_type": "code",
   "execution_count": null,
   "metadata": {},
   "outputs": [],
   "source": [
    "deux_mots = un_mot + ' toi!'\n",
    "deux_mots"
   ]
  },
  {
   "cell_type": "code",
   "execution_count": null,
   "metadata": {},
   "outputs": [],
   "source": [
    "len(deux_mots)"
   ]
  },
  {
   "cell_type": "code",
   "execution_count": null,
   "metadata": {},
   "outputs": [],
   "source": [
    "deux_mots[0:len(un_mot)] == un_mot"
   ]
  },
  {
   "cell_type": "markdown",
   "metadata": {},
   "source": [
    "### Listes"
   ]
  },
  {
   "cell_type": "code",
   "execution_count": null,
   "metadata": {},
   "outputs": [],
   "source": [
    "ma_liste = [2, 4, 6, 8] # Création d'une liste"
   ]
  },
  {
   "cell_type": "code",
   "execution_count": null,
   "metadata": {},
   "outputs": [],
   "source": [
    "ma_liste"
   ]
  },
  {
   "cell_type": "code",
   "execution_count": null,
   "metadata": {},
   "outputs": [],
   "source": [
    "type(ma_liste)"
   ]
  },
  {
   "cell_type": "code",
   "execution_count": null,
   "metadata": {},
   "outputs": [],
   "source": [
    "# Voici une autre méthode permettant d'initialiser une liste\n",
    "une_liste_de_cinq = [5] * 3\n",
    "une_liste_de_cinq"
   ]
  },
  {
   "cell_type": "code",
   "execution_count": null,
   "metadata": {},
   "outputs": [],
   "source": [
    "ma_liste[0] # Accès au premier élément de la liste"
   ]
  },
  {
   "cell_type": "code",
   "execution_count": null,
   "metadata": {},
   "outputs": [],
   "source": [
    "ma_liste[1] # Accès au deuxième élément de la liste"
   ]
  },
  {
   "cell_type": "code",
   "execution_count": null,
   "metadata": {},
   "outputs": [],
   "source": [
    "ma_liste[-1] # Accès au dernier élément de la liste"
   ]
  },
  {
   "cell_type": "code",
   "execution_count": null,
   "metadata": {},
   "outputs": [],
   "source": [
    "ma_liste[4] # Une erreur est généré lorsque l'indice n'est pas valide"
   ]
  },
  {
   "cell_type": "code",
   "execution_count": null,
   "metadata": {},
   "outputs": [],
   "source": [
    "ma_liste[1:3] # Accès à une sous liste [début:fin]. ATTENTION: L'index de fin est exclu"
   ]
  },
  {
   "cell_type": "code",
   "execution_count": null,
   "metadata": {},
   "outputs": [],
   "source": [
    "ma_liste[1:-1] "
   ]
  },
  {
   "cell_type": "code",
   "execution_count": null,
   "metadata": {
    "scrolled": true
   },
   "outputs": [],
   "source": [
    "ma_liste[1:]"
   ]
  },
  {
   "cell_type": "code",
   "execution_count": null,
   "metadata": {},
   "outputs": [],
   "source": [
    "ma_liste[0:3]"
   ]
  },
  {
   "cell_type": "code",
   "execution_count": null,
   "metadata": {},
   "outputs": [],
   "source": [
    "ma_liste[:3]"
   ]
  },
  {
   "cell_type": "code",
   "execution_count": null,
   "metadata": {},
   "outputs": [],
   "source": [
    "ma_liste[:-1]"
   ]
  },
  {
   "cell_type": "code",
   "execution_count": null,
   "metadata": {},
   "outputs": [],
   "source": [
    "ma_liste[1:1]"
   ]
  },
  {
   "cell_type": "code",
   "execution_count": null,
   "metadata": {},
   "outputs": [],
   "source": [
    "ma_liste[3] = 10 # Modification d'un élément\n",
    "ma_liste"
   ]
  },
  {
   "cell_type": "code",
   "execution_count": null,
   "metadata": {},
   "outputs": [],
   "source": [
    "3 in ma_liste # Test d'appartenance"
   ]
  },
  {
   "cell_type": "code",
   "execution_count": null,
   "metadata": {},
   "outputs": [],
   "source": [
    "4 in ma_liste"
   ]
  },
  {
   "cell_type": "code",
   "execution_count": null,
   "metadata": {},
   "outputs": [],
   "source": [
    "ma_phrase = ['Une', 'liste', 'peut', 'contenir', 'autre', 'chose', 'que', 'des', 'nombres.']\n",
    "ma_phrase"
   ]
  },
  {
   "cell_type": "code",
   "execution_count": null,
   "metadata": {
    "scrolled": true
   },
   "outputs": [],
   "source": [
    "len(ma_phrase) # Longueur de la liste"
   ]
  },
  {
   "cell_type": "code",
   "execution_count": null,
   "metadata": {},
   "outputs": [],
   "source": [
    "len(ma_liste)"
   ]
  },
  {
   "cell_type": "code",
   "execution_count": null,
   "metadata": {
    "scrolled": true
   },
   "outputs": [],
   "source": [
    "sum(ma_liste) # Somme des éléments de la liste"
   ]
  },
  {
   "cell_type": "code",
   "execution_count": null,
   "metadata": {},
   "outputs": [],
   "source": [
    "liste_vide = list()   # Création d'une liste vide\n",
    "autre_liste_vide = [] # Autre méthode pour créer un liste vide\n",
    "\n",
    "print(\"Longueur d'une liste vide:\", len(liste_vide))\n",
    "print(\"Somme des éléments d'une liste vide:\", sum(autre_liste_vide))"
   ]
  },
  {
   "cell_type": "markdown",
   "metadata": {},
   "source": [
    "##### Méthodes d'une liste\n",
    "\n",
    "Une liste est un *objet* de type `list` qui possède des *méthodes*. \n",
    "Pour connaître ces méthodes, il suffit d'écrire le nom d'une variable de type `list` suivit d'un point et d'appuyer sur la touche *TAB*. \n",
    "\n",
    "Essayez par vous-même:"
   ]
  },
  {
   "cell_type": "code",
   "execution_count": null,
   "metadata": {},
   "outputs": [],
   "source": [
    "ma_liste."
   ]
  },
  {
   "cell_type": "markdown",
   "metadata": {},
   "source": [
    "Cela fonctionne aussi en écrivant directement `list.` et en appuyant sur *TAB*:"
   ]
  },
  {
   "cell_type": "code",
   "execution_count": null,
   "metadata": {},
   "outputs": [],
   "source": [
    "list."
   ]
  },
  {
   "cell_type": "markdown",
   "metadata": {},
   "source": [
    "À titre d'exemple, essayons les méthodes `reverse`, `append` et `sort`."
   ]
  },
  {
   "cell_type": "code",
   "execution_count": null,
   "metadata": {},
   "outputs": [],
   "source": [
    "ma_liste.reverse() # Inversion de la liste\n",
    "ma_liste"
   ]
  },
  {
   "cell_type": "code",
   "execution_count": null,
   "metadata": {},
   "outputs": [],
   "source": [
    "ma_liste.append(5) # Ajout d'un élément à la fin de la liste\n",
    "ma_liste"
   ]
  },
  {
   "cell_type": "code",
   "execution_count": null,
   "metadata": {},
   "outputs": [],
   "source": [
    "ma_liste.sort() # Tri de la liste\n",
    "ma_liste"
   ]
  },
  {
   "cell_type": "code",
   "execution_count": null,
   "metadata": {},
   "outputs": [],
   "source": [
    "ma_phrase.sort() # Fontionne aussi avec une liste de chaînes de caractères\n",
    "ma_phrase"
   ]
  },
  {
   "cell_type": "markdown",
   "metadata": {},
   "source": [
    "Pour avoir accès à la documentation d'une méthode, écrire un `?` *avant* ou *après* celle-ci et exécutez la cellule avec *MAJUSCULE+ENTRÉE*:"
   ]
  },
  {
   "cell_type": "code",
   "execution_count": null,
   "metadata": {},
   "outputs": [],
   "source": [
    "ma_phrase.append?"
   ]
  },
  {
   "cell_type": "code",
   "execution_count": null,
   "metadata": {},
   "outputs": [],
   "source": [
    "?ma_phrase.sort"
   ]
  },
  {
   "cell_type": "markdown",
   "metadata": {},
   "source": [
    "Les expressions `key=None` et `reverse=False` correspondent aux variables d'entrées de la fonction `sort` et leur valeur par défaut. Le mot-clé `None` (rien) est une constante spéciale du langage Pyhton. Ainsi, on peut écrire:"
   ]
  },
  {
   "cell_type": "code",
   "execution_count": null,
   "metadata": {},
   "outputs": [],
   "source": [
    "ma_phrase.sort(reverse=True) # Tri en ordre décroissant\n",
    "ma_phrase"
   ]
  },
  {
   "cell_type": "code",
   "execution_count": null,
   "metadata": {},
   "outputs": [],
   "source": [
    "ma_phrase.sort(key=len) # Tri selon la longueur des mots. La valeur de retour de la fonction «len» est utilisée\n",
    "                        # pour comparer les éléments de la liste entre-eux.\n",
    "ma_phrase"
   ]
  },
  {
   "cell_type": "code",
   "execution_count": null,
   "metadata": {},
   "outputs": [],
   "source": [
    "ma_phrase.sort(key=len, reverse=True)\n",
    "ma_phrase\n"
   ]
  },
  {
   "cell_type": "markdown",
   "metadata": {},
   "source": [
    "##### Copie d'une liste"
   ]
  },
  {
   "cell_type": "markdown",
   "metadata": {},
   "source": [
    "**Spoiler:** Si `liste_a` est une variable de type `list`, l'expression `liste_b = liste_a` fera en sorte que `liste_b` référera à la même liste que  `liste_a`. \n",
    "\n",
    "Il faut utiliser la méthode `copy` pour éffectuer une copie de la liste."
   ]
  },
  {
   "cell_type": "code",
   "execution_count": null,
   "metadata": {},
   "outputs": [],
   "source": [
    "ma_liste = [2, 4, 6, 8]\n",
    "ma_liste.copy?"
   ]
  },
  {
   "cell_type": "code",
   "execution_count": null,
   "metadata": {},
   "outputs": [],
   "source": [
    "# Référence vers ma_liste (ATTENTION: Ce n'est pas une copie des valeurs de la liste!)\n",
    "une_liste = ma_liste \n",
    "print('(A) une_liste:', une_liste, ';  ma_liste:', ma_liste, ';  une_liste == ma_liste :', une_liste == ma_liste)\n",
    "\n",
    "une_liste[0] = 0\n",
    "print('(B) une_liste:', une_liste, ';  ma_liste:', ma_liste, ';  une_liste == ma_liste :', une_liste == ma_liste)"
   ]
  },
  {
   "cell_type": "code",
   "execution_count": null,
   "metadata": {},
   "outputs": [],
   "source": [
    "# Copie du contenu de ma_liste\n",
    "une_copie = ma_liste.copy() \n",
    "print('(A) une_copie:', une_copie, ';  ma_liste:', ma_liste, ';  une_copie == ma_liste :', une_copie == ma_liste)\n",
    "\n",
    "une_copie[0] = 3\n",
    "print('(B) une_copie:', une_copie, ';  ma_liste:', ma_liste, ';  une_copie == ma_liste :', une_copie == ma_liste)"
   ]
  },
  {
   "cell_type": "code",
   "execution_count": null,
   "metadata": {},
   "outputs": [],
   "source": [
    "# L'opérateur «is» permet de savoir si deux variables réfèrent vers le même objet\n",
    "print('une_liste is ma_liste :', une_liste is ma_liste)\n",
    "print('une_copie is ma_liste :', une_copie is ma_liste)"
   ]
  },
  {
   "cell_type": "markdown",
   "metadata": {},
   "source": [
    "### n-uplets"
   ]
  },
  {
   "cell_type": "code",
   "execution_count": null,
   "metadata": {},
   "outputs": [],
   "source": [
    "mon_tuple = (3, 6, 9)"
   ]
  },
  {
   "cell_type": "code",
   "execution_count": null,
   "metadata": {},
   "outputs": [],
   "source": [
    "12 not in mon_tuple "
   ]
  },
  {
   "cell_type": "code",
   "execution_count": null,
   "metadata": {},
   "outputs": [],
   "source": [
    "mon_tuple[0:2]"
   ]
  },
  {
   "cell_type": "code",
   "execution_count": null,
   "metadata": {},
   "outputs": [],
   "source": [
    "mon_tuple[1] = 2 # Erreur! Un tuple n'est pas \"mutable\""
   ]
  },
  {
   "cell_type": "code",
   "execution_count": null,
   "metadata": {},
   "outputs": [],
   "source": [
    "tuple(ma_liste)"
   ]
  },
  {
   "cell_type": "markdown",
   "metadata": {},
   "source": [
    "### Dictionnaires"
   ]
  },
  {
   "cell_type": "code",
   "execution_count": null,
   "metadata": {},
   "outputs": [],
   "source": [
    "mon_dictionnaire = {'vingt-quatre': 24, 'quarante-deux': 42}"
   ]
  },
  {
   "cell_type": "code",
   "execution_count": null,
   "metadata": {},
   "outputs": [],
   "source": [
    "mon_dictionnaire['vingt-quatre']"
   ]
  },
  {
   "cell_type": "code",
   "execution_count": null,
   "metadata": {},
   "outputs": [],
   "source": [
    "une_cle = 'trois'\n",
    "une_valeur = 3\n",
    "mon_dictionnaire[une_cle] = une_valeur"
   ]
  },
  {
   "cell_type": "code",
   "execution_count": null,
   "metadata": {},
   "outputs": [],
   "source": [
    "mon_dictionnaire"
   ]
  },
  {
   "cell_type": "code",
   "execution_count": null,
   "metadata": {},
   "outputs": [],
   "source": [
    "mon_dictionnaire['quatre'] = mon_dictionnaire['trois'] + 1\n",
    "mon_dictionnaire"
   ]
  },
  {
   "cell_type": "code",
   "execution_count": null,
   "metadata": {},
   "outputs": [],
   "source": [
    "print('* clés du dictionnaire: ', list(mon_dictionnaire.keys()))\n",
    "print('* valeurs de clés:      ', list(mon_dictionnaire.values()))\n",
    "print('* tuples clé-valeur:    ', list(mon_dictionnaire.items()))"
   ]
  },
  {
   "cell_type": "code",
   "execution_count": null,
   "metadata": {},
   "outputs": [],
   "source": [
    "'soixante-six' in mon_dictionnaire"
   ]
  },
  {
   "cell_type": "code",
   "execution_count": null,
   "metadata": {},
   "outputs": [],
   "source": [
    "'quatre' in mon_dictionnaire"
   ]
  },
  {
   "cell_type": "code",
   "execution_count": null,
   "metadata": {},
   "outputs": [],
   "source": [
    "4 in mon_dictionnaire"
   ]
  },
  {
   "cell_type": "markdown",
   "metadata": {},
   "source": [
    "************\n",
    "## Conditions\n",
    "### Conditions « if »"
   ]
  },
  {
   "cell_type": "code",
   "execution_count": null,
   "metadata": {},
   "outputs": [],
   "source": [
    "a = 2\n",
    "if a == 3:\n",
    "    a = 2*a\n",
    "    print(a)"
   ]
  },
  {
   "cell_type": "markdown",
   "metadata": {},
   "source": [
    "**ATTENTION:** L'indentation du code est importante en Python."
   ]
  },
  {
   "cell_type": "code",
   "execution_count": null,
   "metadata": {},
   "outputs": [],
   "source": [
    "if a == 3:                                   # Niveau d'intentation 0\n",
    "    print('Je multiplie la variable par 2.') # Niveau d'intentation 1\n",
    "    a = 2*a                                  # Niveau d'intentation 1\n",
    "print('Valeur de «a»:', a)                   # Niveau d'intentation 0"
   ]
  },
  {
   "cell_type": "code",
   "execution_count": null,
   "metadata": {},
   "outputs": [],
   "source": [
    "if a != 3:                                   # Niveau d'intentation 0\n",
    "    print('Je multiplie la variable par 2.') # Niveau d'intentation 1\n",
    "    a = 2*a                                  # Niveau d'intentation 1\n",
    "print('Valeur de «a»:', a)                   # Niveau d'intentation 0"
   ]
  },
  {
   "cell_type": "code",
   "execution_count": null,
   "metadata": {},
   "outputs": [],
   "source": [
    "if a != 3:                                   # Niveau d'intentation 0\n",
    "    print('Je multiplie la variable par 2.') # Niveau d'intentation 1 \n",
    "  a = 2*a                                    # ERREUR: INDENTATION INCOHÉRENTE\n",
    "print('Valeur de «a»:', a)                   # Niveau d'intentation 0"
   ]
  },
  {
   "cell_type": "markdown",
   "metadata": {},
   "source": [
    "### Conditions « if, elif, else »"
   ]
  },
  {
   "cell_type": "code",
   "execution_count": null,
   "metadata": {},
   "outputs": [],
   "source": [
    "if a < 4:\n",
    "    print('Valeur de «a» inférieure à quatre')\n",
    "elif a >= 6:\n",
    "    if a == 6:\n",
    "        print(\"Valeur de «a» égale à six\")        \n",
    "    else:\n",
    "        print(\"Valeur de «a» supérieure à six\")\n",
    "elif a - 5 == 0:\n",
    "    print('Valeur de «a» égale à cinq')    \n",
    "else:\n",
    "    print('Valeur de «a» égale à quatre')"
   ]
  },
  {
   "cell_type": "markdown",
   "metadata": {},
   "source": [
    "************\n",
    "## Boucles\n",
    "### Boucles « for »"
   ]
  },
  {
   "cell_type": "code",
   "execution_count": null,
   "metadata": {},
   "outputs": [],
   "source": [
    "for i in range(10):\n",
    "    print(i, 'au carré donne', i**2)"
   ]
  },
  {
   "cell_type": "code",
   "execution_count": null,
   "metadata": {},
   "outputs": [],
   "source": [
    "for i in range(1, 11):\n",
    "    print(i, 'au carré donne', i**2)"
   ]
  },
  {
   "cell_type": "code",
   "execution_count": null,
   "metadata": {},
   "outputs": [],
   "source": [
    "for i in range(10, 14):\n",
    "    print(i, 'au carré donne', i**2)"
   ]
  },
  {
   "cell_type": "code",
   "execution_count": null,
   "metadata": {},
   "outputs": [],
   "source": [
    "ma_liste = [8, 2, 4, 10, 8] \n",
    "for x in ma_liste:\n",
    "    print(x, 'au carré donne', x**2)"
   ]
  },
  {
   "cell_type": "code",
   "execution_count": null,
   "metadata": {},
   "outputs": [],
   "source": [
    "for i in range(len(ma_liste)):\n",
    "    x = ma_liste[i]\n",
    "    print('Index', i, ': ', x, 'au carré donne', x**2)"
   ]
  },
  {
   "cell_type": "code",
   "execution_count": null,
   "metadata": {},
   "outputs": [],
   "source": [
    "for i, x in enumerate(ma_liste):\n",
    "    print('Index', i, ': ', x, 'au carré donne', x**2)"
   ]
  },
  {
   "cell_type": "code",
   "execution_count": null,
   "metadata": {},
   "outputs": [],
   "source": [
    "mot_vers_chiffre = dict()\n",
    "tuple_de_mots = ('zero', 'un', 'deux', 'trois', 'quatre', 'cinq', 'six', 'sept', 'huit', 'neuf')\n",
    "for i, mot in enumerate(tuple_de_mots):\n",
    "    mot_vers_chiffre[mot] = i"
   ]
  },
  {
   "cell_type": "code",
   "execution_count": null,
   "metadata": {},
   "outputs": [],
   "source": [
    "for cle in mot_vers_chiffre.keys():\n",
    "    valeur = mot_vers_chiffre[cle]\n",
    "    print(cle, '==>', valeur)"
   ]
  },
  {
   "cell_type": "code",
   "execution_count": null,
   "metadata": {},
   "outputs": [],
   "source": [
    "for cle, valeur in mot_vers_chiffre.items():\n",
    "    print(cle, '==>', valeur)"
   ]
  },
  {
   "cell_type": "markdown",
   "metadata": {},
   "source": [
    "### Boucles « while »"
   ]
  },
  {
   "cell_type": "code",
   "execution_count": null,
   "metadata": {},
   "outputs": [],
   "source": [
    "fib = [1, 1]\n",
    "while fib[-1] < 100:\n",
    "    element = fib[-2] + fib[-1]\n",
    "    fib.append(element)\n",
    "        \n",
    "print(fib)"
   ]
  },
  {
   "cell_type": "markdown",
   "metadata": {},
   "source": [
    "$\\newcommand{\\vbf}{\\mathbf{v}}\n",
    "\\newcommand{\\ubf}{\\mathbf{u}}\n",
    "\\newcommand{\\Mbf}{\\mathbf{M}}\n",
    "$ \n",
    "****************\n",
    "****************\n",
    "# Exercices\n"
   ]
  },
  {
   "cell_type": "markdown",
   "metadata": {},
   "source": [
    "### Exercice 1\n",
    "\n",
    "On utilise une liste pour représenter un vecteur $\\vbf \\in \\mathbb{R}^5$.\n",
    "Calculer la norme Euclidienne du vecteur $\\vbf$ :\n",
    "$$\\|\\vbf\\| = \\sqrt{\\sum_{i=1}^5 v_i^2}$$"
   ]
  },
  {
   "cell_type": "code",
   "execution_count": null,
   "metadata": {},
   "outputs": [],
   "source": [
    "vecteur_v = [2, 5, 3, 5, 1] \n",
    "\n",
    "# Compléter ici..."
   ]
  },
  {
   "cell_type": "markdown",
   "metadata": {},
   "source": [
    "### Exercice 2\n",
    "\n",
    "On initialise un nouveau vecteur $\\ubf \\in \\mathbb{R}^5$.\n",
    "Calculer le produit scalaire entre les vecteur $\\vbf$ et $\\ubf$:\n",
    "$$\\ubf\\cdot\\vbf = \\sum_{i=1}^5 u_iv_i. $$\n",
    "    Pour ce faire, utilizer la commande Python `zip`"
   ]
  },
  {
   "cell_type": "code",
   "execution_count": null,
   "metadata": {},
   "outputs": [],
   "source": [
    "vecteur_u = [1, 3, 3, 2, 8]\n",
    "vecteur_v = [2, 5, 3, 5, 1]\n",
    "\n",
    "# Commencez par exécuter ce code pour en déduire l'utilité de la commande «zip», \n",
    "# puis modifiez le pour calculer le produit scalaire\n",
    "for x, y in zip(vecteur_u, vecteur_v):\n",
    "    print(x, ';', y)"
   ]
  },
  {
   "cell_type": "markdown",
   "metadata": {},
   "source": [
    "### Exercice 3\n",
    "\n",
    "On représente une matrice $\\Mbf \\in \\mathbb{R}^{3\\times 5}$ par une liste de liste (autrement dit, une liste contenant 3 éléments, chacun de ces éléments étant une liste de 5 nombres.\n",
    "\n",
    "Créer une nouvelle matrice $\\Mbf^T \\in \\mathbb{R}^{5\\times 3}$ qui est la [transposée](https://fr.wikipedia.org/wiki/Matrice_transpos%C3%A9e) de la matrice $\\Mbf$. "
   ]
  },
  {
   "cell_type": "code",
   "execution_count": null,
   "metadata": {},
   "outputs": [],
   "source": [
    "matrice_M = [[1, 3, 3, 2, 8], [2, 5, 3, 5, 1] , [1, 2, 3, 2, 1]]\n",
    "\n",
    "print('Matrice M:')\n",
    "for ligne in matrice_M:\n",
    "    print(ligne)\n",
    "    \n",
    "matrice_M_T = [] \n",
    "nb_lignes = len(matrice_M)\n",
    "nb_colonnes = len(matrice_M[0])\n",
    "\n",
    "# Complétez...\n",
    "\n",
    "print('---------------------------')\n",
    "print('Transposée de la matrice M:')\n",
    "for ligne in matrice_M_T:\n",
    "    print(ligne)"
   ]
  },
  {
   "cell_type": "markdown",
   "metadata": {},
   "source": [
    "### Validation de la réponse de l'exercice 3\n",
    "\n",
    "Exécutez le code ci-dessous pour vérifier que le contenu de la variable `matrice_M_T` contient bien la transposée de la matrice `matrice_M`.\n",
    "\n",
    "Profitez-en pour vous familiariser avec la commande `assert`, qui permet de valider qu'un programme se comporte comme prévu en interrompant l'exécution du code si une erreur est détectée."
   ]
  },
  {
   "cell_type": "code",
   "execution_count": null,
   "metadata": {},
   "outputs": [],
   "source": [
    "nb_lignes = len(matrice_M)\n",
    "nb_colonnes = len(matrice_M[0])\n",
    "\n",
    "assert len(matrice_M_T) == nb_colonnes, \"La matrice transposée n'a pas le bon nombre de lignes\"\n",
    "\n",
    "for i in range(nb_lignes):    \n",
    "    assert len(matrice_M_T[i]) == nb_lignes, \"La matrice transposée n'a pas le bon nombre de colonne\"    \n",
    "    for j in range(nb_colonnes):\n",
    "        assert matrice_M[i][j] == matrice_M_T[j][i], \"Erreur dans les valeurs de la matrice transposée\"\n",
    "        \n",
    "print('**Test réussi!**')"
   ]
  },
  {
   "cell_type": "code",
   "execution_count": null,
   "metadata": {},
   "outputs": [],
   "source": []
  }
 ],
 "metadata": {
  "kernelspec": {
   "display_name": "Python 3",
   "language": "python",
   "name": "python3"
  },
  "language_info": {
   "codemirror_mode": {
    "name": "ipython",
    "version": 3
   },
   "file_extension": ".py",
   "mimetype": "text/x-python",
   "name": "python",
   "nbconvert_exporter": "python",
   "pygments_lexer": "ipython3",
   "version": "3.6.8"
  }
 },
 "nbformat": 4,
 "nbformat_minor": 2
}

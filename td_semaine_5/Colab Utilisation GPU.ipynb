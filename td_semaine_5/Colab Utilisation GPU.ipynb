{
 "cells": [
  {
   "cell_type": "markdown",
   "metadata": {
    "colab_type": "text",
    "id": "mlOx-DyWKdMm"
   },
   "source": [
    "## Les réseaux de neurones - Utilisation GPU"
   ]
  },
  {
   "cell_type": "markdown",
   "metadata": {
    "colab_type": "text",
    "id": "PTErmPeEKcpF"
   },
   "source": [
    "Google fournit un service cloud sur Jupyter Notebook, et permet d'utiliser leurs GPUs gratuitement. Tous les notebooks sont stockés dans Google Drive."
   ]
  },
  {
   "cell_type": "code",
   "execution_count": 3,
   "metadata": {
    "colab": {
     "base_uri": "https://localhost:8080/",
     "height": 54
    },
    "colab_type": "code",
    "executionInfo": {
     "elapsed": 1086,
     "status": "ok",
     "timestamp": 1570474534475,
     "user": {
      "displayName": "Vera Shalaeva",
      "photoUrl": "https://lh3.googleusercontent.com/a-/AAuE7mDvnjuHGrxx7Es7qAuANXceHSDpVLvimnyjT5Rr=s64",
      "userId": "07735960414886372653"
     },
     "user_tz": -120
    },
    "id": "EEimzBcWK7LH",
    "outputId": "58f378d8-effb-450c-ecd5-a94383b62419"
   },
   "outputs": [
    {
     "name": "stdout",
     "output_type": "stream",
     "text": [
      "Drive already mounted at /content/gdrive; to attempt to forcibly remount, call drive.mount(\"/content/gdrive\", force_remount=True).\n"
     ]
    }
   ],
   "source": [
    "%matplotlib inline\n",
    "from matplotlib import pyplot as plt\n",
    "import numpy as np\n",
    "import torch\n",
    "from torch import nn\n",
    "import os\n",
    "import sys\n",
    "import time\n",
    "from google.colab import drive\n",
    "drive.mount('/content/gdrive')\n",
    "import torch\n"
   ]
  },
  {
   "cell_type": "code",
   "execution_count": 0,
   "metadata": {
    "colab": {
     "base_uri": "https://localhost:8080/",
     "height": 51
    },
    "colab_type": "code",
    "executionInfo": {
     "elapsed": 1135,
     "status": "ok",
     "timestamp": 1570456152450,
     "user": {
      "displayName": "Hamid Mirisaee",
      "photoUrl": "",
      "userId": "13647873541238648149"
     },
     "user_tz": -120
    },
    "id": "6frr-jkZ6yZO",
    "outputId": "0e9e0905-27ab-4193-d2b9-5b6d1f236318"
   },
   "outputs": [
    {
     "name": "stdout",
     "output_type": "stream",
     "text": [
      "[Errno 2] No such file or directory: '/content/gdrive/My Drive/Colab Notebooks/TD_DL/'\n",
      "/content\n"
     ]
    }
   ],
   "source": [
    "%cd /content/gdrive/My\\ Drive/Colab\\ Notebooks/TD_DL/ # Modifier le répertoire au besoin"
   ]
  },
  {
   "cell_type": "markdown",
   "metadata": {
    "colab_type": "text",
    "id": "dqjBybjrMvgs"
   },
   "source": [
    "### Chargement des données «MNIST»"
   ]
  },
  {
   "cell_type": "code",
   "execution_count": 0,
   "metadata": {
    "colab": {},
    "colab_type": "code",
    "id": "C3cGRRnUMnyY"
   },
   "outputs": [],
   "source": [
    "repertoire_mnist = '../data/mnist/' # Modifier le répertoire au besoin"
   ]
  },
  {
   "cell_type": "code",
   "execution_count": 0,
   "metadata": {
    "colab": {},
    "colab_type": "code",
    "id": "Rk7VsjVgM1Mo"
   },
   "outputs": [],
   "source": [
    "def charger_mnist(repertoire, etiquettes=None, max_par_etiquettes=None):\n",
    "    if etiquettes is None:\n",
    "         etiquettes = np.arange(10)\n",
    "    images_list = [None] * len(etiquettes)\n",
    "    labels_list = [None] * len(etiquettes)\n",
    "    for i, val in enumerate(etiquettes):\n",
    "        nom_fichier = repertoire + f'mnist_{val}.gz'\n",
    "        images_list[i] = np.genfromtxt(nom_fichier, max_rows=max_par_etiquettes, dtype=np.float32)\n",
    "        nb = images_list[i].shape[0]\n",
    "\n",
    "        labels_list[i] = i*np.ones(nb, dtype=np.int64)\n",
    "        print(val, ':', nb, 'images')\n",
    "        \n",
    "    x = np.vstack(images_list)\n",
    "    y = np.concatenate(labels_list)\n",
    "    print('Total :', len(y), 'images')\n",
    "    return x, y"
   ]
  },
  {
   "cell_type": "code",
   "execution_count": 0,
   "metadata": {
    "colab": {
     "base_uri": "https://localhost:8080/",
     "height": 204
    },
    "colab_type": "code",
    "executionInfo": {
     "elapsed": 6525,
     "status": "ok",
     "timestamp": 1570455610927,
     "user": {
      "displayName": "Vera Shalaeva",
      "photoUrl": "https://lh3.googleusercontent.com/a-/AAuE7mDvnjuHGrxx7Es7qAuANXceHSDpVLvimnyjT5Rr=s64",
      "userId": "07735960414886372653"
     },
     "user_tz": -120
    },
    "id": "i3n1gGqxM59h",
    "outputId": "2bfbb24d-6c28-4a39-c62e-d3664b4f5bfe"
   },
   "outputs": [
    {
     "name": "stdout",
     "output_type": "stream",
     "text": [
      "0 : 1000 images\n",
      "1 : 1000 images\n",
      "2 : 1000 images\n",
      "3 : 1000 images\n",
      "4 : 1000 images\n",
      "5 : 1000 images\n",
      "6 : 1000 images\n",
      "7 : 1000 images\n",
      "8 : 1000 images\n",
      "9 : 1000 images\n",
      "Total : 10000 images\n"
     ]
    }
   ],
   "source": [
    "data_x, data_y = charger_mnist(repertoire_mnist, etiquettes=None, max_par_etiquettes=6000)\n",
    "data_x = data_x / 255"
   ]
  },
  {
   "cell_type": "code",
   "execution_count": 0,
   "metadata": {
    "colab": {
     "base_uri": "https://localhost:8080/",
     "height": 85
    },
    "colab_type": "code",
    "executionInfo": {
     "elapsed": 856,
     "status": "ok",
     "timestamp": 1570455614899,
     "user": {
      "displayName": "Vera Shalaeva",
      "photoUrl": "https://lh3.googleusercontent.com/a-/AAuE7mDvnjuHGrxx7Es7qAuANXceHSDpVLvimnyjT5Rr=s64",
      "userId": "07735960414886372653"
     },
     "user_tz": -120
    },
    "id": "Fql8fVZGNEW1",
    "outputId": "4b484e5c-3f19-4373-d069-65af09d0379a"
   },
   "outputs": [
    {
     "name": "stdout",
     "output_type": "stream",
     "text": [
      "train_x: (3000, 784)\n",
      "test_x: (7000, 784)\n",
      "train_y: (3000,)\n",
      "test_y: (7000,)\n"
     ]
    }
   ],
   "source": [
    "from sklearn.model_selection import train_test_split\n",
    "train_x, test_x, train_y, test_y = train_test_split(data_x, data_y, test_size=0.7, random_state=42)\n",
    "print('train_x:', train_x.shape)\n",
    "print('test_x:', test_x.shape)\n",
    "print('train_y:', train_y.shape)\n",
    "print('test_y:', test_y.shape)"
   ]
  },
  {
   "cell_type": "code",
   "execution_count": 0,
   "metadata": {
    "colab": {},
    "colab_type": "code",
    "id": "87mAbo9FTpQ2"
   },
   "outputs": [],
   "source": [
    "from sklearn.preprocessing import StandardScaler\n",
    "scaler = StandardScaler()\n",
    "scaler.fit(train_x)\n",
    "train_x_prime = scaler.transform(train_x)\n",
    "test_x_prime = scaler.transform(test_x)"
   ]
  },
  {
   "cell_type": "markdown",
   "metadata": {
    "colab_type": "text",
    "id": "aYDT8OpcUMxa"
   },
   "source": [
    "### Créons un réseau de neurones\n",
    "Nous réutilisons la classe `reseau_classif_generique` introduite lors du TD précédent."
   ]
  },
  {
   "cell_type": "code",
   "execution_count": 0,
   "metadata": {
    "colab": {},
    "colab_type": "code",
    "id": "iQuEEFpDYREY"
   },
   "outputs": [],
   "source": [
    "class UneArchiPourMNIST(nn.Module):\n",
    "    def __init__(self, nb_filtres_par_couche, taille_noyau_par_couche):\n",
    "        # Initialisation de la classe de base nn.Module\n",
    "        super().__init__()\n",
    "        \n",
    "        # Créons une couche de convolution \n",
    "        self.modele_conv = nn.Sequential(\n",
    "            nn.Conv2d(1, nb_filtres_par_couche[0], kernel_size=taille_noyau_par_couche[0]),\n",
    "            nn.ReLU(),\n",
    "            nn.MaxPool2d(2),\n",
    "            nn.Conv2d(nb_filtres_par_couche[0], nb_filtres_par_couche[1], kernel_size=taille_noyau_par_couche[1]),\n",
    "            nn.ReLU(),\n",
    "            nn.MaxPool2d(2)\n",
    "        )\n",
    "        \n",
    "        # La convolution est suivie d'une couche de sortie\n",
    "        nb_pixels = (28-taille_noyau_par_couche[0]+1)//2\n",
    "        nb_pixels = (nb_pixels - taille_noyau_par_couche[1] + 1) // 2\n",
    "        self.nb_neurones_du_milieu = nb_filtres_par_couche[1] * (nb_pixels)**2\n",
    "        \n",
    "        self.modele_plein = nn.Sequential(\n",
    "            nn.Linear(self.nb_neurones_du_milieu, 10),\n",
    "            nn.LogSoftmax(dim=1)\n",
    "        )\n",
    "        \n",
    "    def forward(self, x):\n",
    "        # Propageons la «batch». Notez que nous devons redimensionner nos données consciencieusement\n",
    "        x0 = x.view(-1, 1, 28, 28)\n",
    "        x1 = self.modele_conv(x0)\n",
    "        x2 = x1.view(-1, self.nb_neurones_du_milieu)\n",
    "        x3 = self.modele_plein(x2)\n",
    "        return x3"
   ]
  },
  {
   "cell_type": "code",
   "execution_count": 0,
   "metadata": {
    "colab": {},
    "colab_type": "code",
    "id": "REzVYZ62HB-k"
   },
   "outputs": [],
   "source": [
    "import numpy as np\n",
    "import torch\n",
    "from torch import nn\n",
    "from torch.utils.data import TensorDataset, DataLoader\n",
    "from copy import deepcopy\n",
    "import time\n",
    "\n",
    "\n",
    "class ReseauClassifGenerique:\n",
    "    \"\"\" Classe destinée en encapsuler une architecture de réseau de neurones pour la classification \n",
    "    multi-classe. L'apprentissage est effectué par descente de gradient stochastique avec «minibatch»,\n",
    "    et il est possible de déterminer l'arrêt de l'optimisation par «early stopping».\n",
    "\n",
    "    Paramètres\n",
    "    ----------\n",
    "    modele: Objet contenant l'architecture du réseau de neurones à optimiser. \n",
    "    eta, alpha: Parametres de la descente en gradient stochastique (taille du gradient et momentum).\n",
    "    nb_epoques: Nombre d'époques maximum de la descente en gradient stochastique.\n",
    "    taille_batch: Nombre d'exemples pour chaque «minibatch».\n",
    "    fraction_validation: Fraction (entre 0.0 à 1.0) des exemples d'apprentissage à utiliser pour\n",
    "                         créer un ensemble de validation pour le «early stopping».\n",
    "                         Par défaut fraction_validation=None et il n'y a pas de «early stopping».\n",
    "    patience: Paramètre de patience pour le «early stopping».\n",
    "    seed: Germe du générateur de nombres aléatoires.\n",
    "    \"\"\"\n",
    "    def __init__(self, modele, eta=0.4, alpha=0.1, nb_epoques=10, taille_batch=32, \n",
    "                 fraction_validation=0.2, patience=10, seed=None, device='cpu'):\n",
    "        # Initialisation des paramètres\n",
    "        self.modele = modele\n",
    "        self.eta = eta\n",
    "        self.alpha = alpha\n",
    "        self.nb_epoques = nb_epoques\n",
    "        self.taille_batch = taille_batch\n",
    "        self.fraction_validation = fraction_validation\n",
    "        self.patience = patience\n",
    "        self.seed = seed\n",
    "        self.device = device\n",
    "        \n",
    "        # Ces deux listes serviront à maintenir des statistiques lors de l'optimisation\n",
    "        self.liste_objectif = list()\n",
    "        self.liste_erreur_train = list()\n",
    "        self.liste_erreur_valid = list()\n",
    "        \n",
    "    def _trace(self, obj, erreur_train, erreur_valid):\n",
    "        self.liste_objectif.append(obj.item())    \n",
    "        self.liste_erreur_train.append(erreur_train.item())        \n",
    "        self.liste_erreur_valid.append(erreur_valid.item()) \n",
    "        \n",
    "    def apprentissage(self, x, y): \n",
    "        if self.seed is not None:\n",
    "            torch.manual_seed(self.seed)\n",
    "            \n",
    "        x = torch.tensor(x, dtype=torch.float32)\n",
    "        y = torch.tensor(y, dtype=torch.int64) \n",
    "        nb_sorties = len(torch.unique(y))\n",
    "\n",
    "        if self.fraction_validation is None:\n",
    "            # Aucun «early stopping»\n",
    "            early_stopping = False\n",
    "            erreur_valid = None\n",
    "            meilleure_epoque = None\n",
    "            \n",
    "            # Toutes les données sont dédiées à l'apprentissage\n",
    "            train_data = TensorDataset(x, y)\n",
    "            max_epoques = self.nb_epoques\n",
    "        else:\n",
    "            early_stopping = True\n",
    "            \n",
    "            # Création de l'ensemble de validation pour le «early stopping»\n",
    "            nb_valid = int(self.fraction_validation * len(y))\n",
    "            nb_train = len(y) - nb_valid\n",
    "            \n",
    "            train_data = TensorDataset(x[:nb_train], y[:nb_train])\n",
    "            valid_data = TensorDataset(x[nb_train:], y[nb_train:])\n",
    "            \n",
    "            # Initialisation des variables pour le «early stopping»\n",
    "            meilleure_erreur = 2.\n",
    "            meilleure_epoque = 0\n",
    "            max_epoques = self.patience\n",
    "            \n",
    "        # Initialisation du problème d'optimisation\n",
    "        sampler = DataLoader(train_data, batch_size=self.taille_batch, shuffle=True) \n",
    "        perte_logistique = nn.NLLLoss()       \n",
    "        optimizer = torch.optim.SGD(self.modele.parameters(), lr=self.eta, momentum=self.alpha)\n",
    "           \n",
    "        # Descente de gradient\n",
    "        t = 0\n",
    "        run_time = time.time()\n",
    "        while t < min(max_epoques, self.nb_epoques):\n",
    "            t += 1\n",
    "            # Une époque correspond à un passage sur toutes les «mini-batch»\n",
    "            liste_pertes = list()\n",
    "            for batch_x, batch_y in sampler:\n",
    "                batch_x, batch_y = batch_x.to(self.device), batch_y.to(self.device)\n",
    "                \n",
    "                # Propagation avant\n",
    "                y_pred = self.modele(batch_x)\n",
    "                perte = perte_logistique(y_pred, batch_y)\n",
    "\n",
    "                # Rétropropagation\n",
    "                optimizer.zero_grad()\n",
    "                perte.backward()\n",
    "                optimizer.step()\n",
    "                \n",
    "                liste_pertes.append(perte.item())\n",
    "                \n",
    "            # Pour fin de consultation future, on conserve les statistiques sur la fonction objectif\n",
    "            perte_moyenne = np.mean(liste_pertes)\n",
    "            message = f'[{t:3}] perte: {perte_moyenne:.5f}'\n",
    "            \n",
    "            # Calcule l'erreur sur l'ensemble d'entraînement\n",
    "            with torch.no_grad():\n",
    "                pred_train = self.modele(train_data.tensors[0].to(self.device))\n",
    "                pred_train = torch.argmax(pred_train, dim=1)\n",
    "                erreur_train = 1 - torch.mean(pred_train == train_data.tensors[1].to(self.device), dtype=torch.float32)\n",
    "                message += f' | erreur train: {erreur_train:3f}'            \n",
    "            \n",
    "            if early_stopping:\n",
    "                # Calcule l'erreur sur l'ensemble de validation\n",
    "                with torch.no_grad():\n",
    "                    pred_valid = self.modele(valid_data.tensors[0].to(self.device))\n",
    "                    pred_valid = torch.argmax(pred_valid, dim=1)\n",
    "                    erreur_valid = 1 - torch.mean(pred_valid == valid_data.tensors[1].to(self.device), dtype=torch.float32)\n",
    "                    message += f' | erreur valid: {erreur_valid:3f}'\n",
    "               \n",
    "                if erreur_valid < meilleure_erreur:\n",
    "                    # Conserve le meilleur modèle \n",
    "                    meilleur_modele = deepcopy(self.modele).to(self.device)\n",
    "                    meilleure_erreur = erreur_valid\n",
    "                    meilleure_epoque = t\n",
    "                    max_epoques = t + self.patience\n",
    "                    message += f' <-- meilleur modèle à ce jour (max_t={max_epoques})' \n",
    "            \n",
    "            \n",
    "            # Fin de l'époque: affiche le message d'état à l'utilisateur avant de passer à l'époque t+1 \n",
    "            print(message)\n",
    "            self._trace(perte_moyenne, erreur_train, erreur_valid)\n",
    "        \n",
    "            if t % 5 == 0:\n",
    "                print(\"Le temps d'apprentissage: {}\".format(time.time() - run_time))\n",
    "          \n",
    "        print('=== Optimisation terminée ===')\n",
    "        print(\"Le temps d'apprentissage complet: {}\".format(time.time() - run_time))\n",
    "        \n",
    "        # Dans le cas du «early stopping», on retourne à l'état du modèle offrant la meilleure précision en validation  \n",
    "        if early_stopping:\n",
    "            self.modele = meilleur_modele\n",
    "            self.meilleure_epoque = meilleure_epoque\n",
    "            print(f\"Early stopping à l'époque #{meilleure_epoque}, avec erreur de validation de {meilleure_erreur}\")\n",
    "                \n",
    "    def prediction(self, x):\n",
    "        x = torch.tensor(x, dtype=torch.float32) # On s'assure que les données sont dans le bon format pytorch       \n",
    "        \n",
    "        with torch.no_grad():\n",
    "            pred = self.modele(x.to(self.device))            # Propagation avant \n",
    "            pred = torch.argmax(pred, dim=1) # La prédiction correspond à l'indice du neurone de sortie ayant la valeure maximale\n",
    "            pred = pred.cpu()\n",
    "     \n",
    "        return np.array(pred.detach()) # Retourne le résultat en format numpy\n"
   ]
  },
  {
   "cell_type": "code",
   "execution_count": 0,
   "metadata": {
    "colab": {},
    "colab_type": "code",
    "id": "HbGvSdG3azrP"
   },
   "outputs": [],
   "source": [
    "mon_archi = UneArchiPourMNIST(nb_filtres_par_couche=[32, 32], taille_noyau_par_couche=[3,3])"
   ]
  },
  {
   "cell_type": "markdown",
   "metadata": {
    "colab_type": "text",
    "id": "3cii136Gbpo6"
   },
   "source": [
    "### Choisir le «device» (CPU ou GPU) sur lequel lancer l'apprentissage."
   ]
  },
  {
   "cell_type": "markdown",
   "metadata": {
    "colab_type": "text",
    "id": "N-Jt7zuvQoeb"
   },
   "source": [
    "#### Apprentissage sur CPU."
   ]
  },
  {
   "cell_type": "code",
   "execution_count": 0,
   "metadata": {
    "colab": {
     "base_uri": "https://localhost:8080/",
     "height": 51
    },
    "colab_type": "code",
    "executionInfo": {
     "elapsed": 676,
     "status": "ok",
     "timestamp": 1570455683854,
     "user": {
      "displayName": "Vera Shalaeva",
      "photoUrl": "https://lh3.googleusercontent.com/a-/AAuE7mDvnjuHGrxx7Es7qAuANXceHSDpVLvimnyjT5Rr=s64",
      "userId": "07735960414886372653"
     },
     "user_tz": -120
    },
    "id": "avWbHNGNbog2",
    "outputId": "68b7f030-a98e-4f72-851e-72a702afeb69"
   },
   "outputs": [
    {
     "name": "stdout",
     "output_type": "stream",
     "text": [
      "CUDA Available:  True\n",
      "cpu\n"
     ]
    }
   ],
   "source": [
    "use_cuda = False\n",
    "# print(use_cuda)\n",
    "print(\"CUDA Available: \", torch.cuda.is_available())\n",
    "device = torch.device(\"cuda:0\" if (use_cuda and torch.cuda.is_available()) else \"cpu\")\n",
    "print(device)"
   ]
  },
  {
   "cell_type": "code",
   "execution_count": 0,
   "metadata": {
    "colab": {
     "base_uri": "https://localhost:8080/",
     "height": 255
    },
    "colab_type": "code",
    "executionInfo": {
     "elapsed": 1108,
     "status": "ok",
     "timestamp": 1570455684908,
     "user": {
      "displayName": "Vera Shalaeva",
      "photoUrl": "https://lh3.googleusercontent.com/a-/AAuE7mDvnjuHGrxx7Es7qAuANXceHSDpVLvimnyjT5Rr=s64",
      "userId": "07735960414886372653"
     },
     "user_tz": -120
    },
    "id": "BULxS29bXLNi",
    "outputId": "3a3ce6eb-a52a-44d1-8ab9-342eac4a3e36"
   },
   "outputs": [
    {
     "data": {
      "text/plain": [
       "UneArchiPourMNIST(\n",
       "  (modele_conv): Sequential(\n",
       "    (0): Conv2d(1, 32, kernel_size=(3, 3), stride=(1, 1))\n",
       "    (1): ReLU()\n",
       "    (2): MaxPool2d(kernel_size=2, stride=2, padding=0, dilation=1, ceil_mode=False)\n",
       "    (3): Conv2d(32, 32, kernel_size=(3, 3), stride=(1, 1))\n",
       "    (4): ReLU()\n",
       "    (5): MaxPool2d(kernel_size=2, stride=2, padding=0, dilation=1, ceil_mode=False)\n",
       "  )\n",
       "  (modele_plein): Sequential(\n",
       "    (0): Linear(in_features=800, out_features=10, bias=True)\n",
       "    (1): LogSoftmax()\n",
       "  )\n",
       ")"
      ]
     },
     "execution_count": 326,
     "metadata": {
      "tags": []
     },
     "output_type": "execute_result"
    }
   ],
   "source": [
    "mon_archi.to(device)"
   ]
  },
  {
   "cell_type": "code",
   "execution_count": 0,
   "metadata": {
    "colab": {},
    "colab_type": "code",
    "id": "R17O5uqua5pc"
   },
   "outputs": [],
   "source": [
    "R = ReseauClassifGenerique(mon_archi, eta=0.1, alpha=0.1, nb_epoques=30, taille_batch=32, seed=16, device=device)"
   ]
  },
  {
   "cell_type": "code",
   "execution_count": 0,
   "metadata": {
    "colab": {
     "base_uri": "https://localhost:8080/",
     "height": 408
    },
    "colab_type": "code",
    "executionInfo": {
     "elapsed": 38152,
     "status": "ok",
     "timestamp": 1570455727708,
     "user": {
      "displayName": "Vera Shalaeva",
      "photoUrl": "https://lh3.googleusercontent.com/a-/AAuE7mDvnjuHGrxx7Es7qAuANXceHSDpVLvimnyjT5Rr=s64",
      "userId": "07735960414886372653"
     },
     "user_tz": -120
    },
    "id": "T8Lm1B9apZkc",
    "outputId": "d6c8767c-0e5a-4a51-986a-5be1e329fe62"
   },
   "outputs": [
    {
     "name": "stdout",
     "output_type": "stream",
     "text": [
      "[  1] perte: 0.78593 | erreur train: 0.097500 | erreur valid: 0.126667 <-- meilleur modèle à ce jour (max_t=11)\n",
      "[  2] perte: 0.22526 | erreur train: 0.041667 | erreur valid: 0.068333 <-- meilleur modèle à ce jour (max_t=12)\n",
      "[  3] perte: 0.14316 | erreur train: 0.026667 | erreur valid: 0.060000 <-- meilleur modèle à ce jour (max_t=13)\n",
      "[  4] perte: 0.09176 | erreur train: 0.014583 | erreur valid: 0.055000 <-- meilleur modèle à ce jour (max_t=14)\n",
      "[  5] perte: 0.06710 | erreur train: 0.010000 | erreur valid: 0.056667\n",
      "Le temps d'apprentissage: 10.913705825805664\n",
      "[  6] perte: 0.04659 | erreur train: 0.009167 | erreur valid: 0.050000 <-- meilleur modèle à ce jour (max_t=16)\n",
      "[  7] perte: 0.03352 | erreur train: 0.007083 | erreur valid: 0.048333 <-- meilleur modèle à ce jour (max_t=17)\n",
      "[  8] perte: 0.02607 | erreur train: 0.002500 | erreur valid: 0.053333\n",
      "[  9] perte: 0.01784 | erreur train: 0.001250 | erreur valid: 0.048333\n",
      "[ 10] perte: 0.00885 | erreur train: 0.000000 | erreur valid: 0.051667\n",
      "Le temps d'apprentissage: 21.83844518661499\n",
      "[ 11] perte: 0.00702 | erreur train: 0.000000 | erreur valid: 0.053333\n",
      "[ 12] perte: 0.00434 | erreur train: 0.000000 | erreur valid: 0.048333\n",
      "[ 13] perte: 0.00370 | erreur train: 0.000000 | erreur valid: 0.048333\n",
      "[ 14] perte: 0.00301 | erreur train: 0.000000 | erreur valid: 0.050000\n",
      "[ 15] perte: 0.00251 | erreur train: 0.000000 | erreur valid: 0.051667\n",
      "Le temps d'apprentissage: 32.76016044616699\n",
      "[ 16] perte: 0.00224 | erreur train: 0.000000 | erreur valid: 0.050000\n",
      "[ 17] perte: 0.00196 | erreur train: 0.000000 | erreur valid: 0.050000\n",
      "=== Optimisation terminée ===\n",
      "Le temps d'apprentissage complet: 37.166279792785645\n",
      "Early stopping à l'époque #7, avec erreur de validation de 0.04833334684371948\n"
     ]
    }
   ],
   "source": [
    "R.apprentissage(train_x_prime, train_y)"
   ]
  },
  {
   "cell_type": "code",
   "execution_count": 0,
   "metadata": {
    "colab": {
     "base_uri": "https://localhost:8080/",
     "height": 51
    },
    "colab_type": "code",
    "executionInfo": {
     "elapsed": 3488,
     "status": "ok",
     "timestamp": 1570455745876,
     "user": {
      "displayName": "Vera Shalaeva",
      "photoUrl": "https://lh3.googleusercontent.com/a-/AAuE7mDvnjuHGrxx7Es7qAuANXceHSDpVLvimnyjT5Rr=s64",
      "userId": "07735960414886372653"
     },
     "user_tz": -120
    },
    "id": "5tHc6pY-a8oC",
    "outputId": "ca0739b8-16c2-478d-8f80-903768b8b9c9"
   },
   "outputs": [
    {
     "name": "stdout",
     "output_type": "stream",
     "text": [
      "Précision train: 0.9846666666666667\n",
      "Précision test : 0.9532857142857143\n"
     ]
    }
   ],
   "source": [
    "from sklearn.metrics import accuracy_score\n",
    "train_pred = R.prediction(train_x_prime)\n",
    "test_pred = R.prediction(test_x_prime)\n",
    "print('Précision train:', accuracy_score(train_y, train_pred) )\n",
    "print('Précision test :', accuracy_score(test_y, test_pred))"
   ]
  },
  {
   "cell_type": "markdown",
   "metadata": {
    "colab_type": "text",
    "id": "9ibio8zYPDXi"
   },
   "source": [
    "#### Apprentissage sur GPUs."
   ]
  },
  {
   "cell_type": "code",
   "execution_count": 0,
   "metadata": {
    "colab": {
     "base_uri": "https://localhost:8080/",
     "height": 68
    },
    "colab_type": "code",
    "executionInfo": {
     "elapsed": 764,
     "status": "ok",
     "timestamp": 1570455748484,
     "user": {
      "displayName": "Vera Shalaeva",
      "photoUrl": "https://lh3.googleusercontent.com/a-/AAuE7mDvnjuHGrxx7Es7qAuANXceHSDpVLvimnyjT5Rr=s64",
      "userId": "07735960414886372653"
     },
     "user_tz": -120
    },
    "id": "QOHIfldCbCUA",
    "outputId": "c8f31659-ef73-4c4b-cfdd-18a2e421ce81"
   },
   "outputs": [
    {
     "name": "stdout",
     "output_type": "stream",
     "text": [
      "True\n",
      "CUDA Available:  True\n",
      "cuda\n"
     ]
    }
   ],
   "source": [
    "use_cuda = True\n",
    "print(use_cuda)\n",
    "print(\"CUDA Available: \", torch.cuda.is_available())\n",
    "device = torch.device(\"cuda\" if (use_cuda and torch.cuda.is_available()) else \"cpu\")\n",
    "print(device)"
   ]
  },
  {
   "cell_type": "code",
   "execution_count": 0,
   "metadata": {
    "colab": {
     "base_uri": "https://localhost:8080/",
     "height": 255
    },
    "colab_type": "code",
    "executionInfo": {
     "elapsed": 708,
     "status": "ok",
     "timestamp": 1570455751355,
     "user": {
      "displayName": "Vera Shalaeva",
      "photoUrl": "https://lh3.googleusercontent.com/a-/AAuE7mDvnjuHGrxx7Es7qAuANXceHSDpVLvimnyjT5Rr=s64",
      "userId": "07735960414886372653"
     },
     "user_tz": -120
    },
    "id": "APCKD7bUXZwJ",
    "outputId": "05d4f839-56e7-4c22-ad14-d0f5197fe4a1"
   },
   "outputs": [
    {
     "data": {
      "text/plain": [
       "UneArchiPourMNIST(\n",
       "  (modele_conv): Sequential(\n",
       "    (0): Conv2d(1, 32, kernel_size=(3, 3), stride=(1, 1))\n",
       "    (1): ReLU()\n",
       "    (2): MaxPool2d(kernel_size=2, stride=2, padding=0, dilation=1, ceil_mode=False)\n",
       "    (3): Conv2d(32, 32, kernel_size=(3, 3), stride=(1, 1))\n",
       "    (4): ReLU()\n",
       "    (5): MaxPool2d(kernel_size=2, stride=2, padding=0, dilation=1, ceil_mode=False)\n",
       "  )\n",
       "  (modele_plein): Sequential(\n",
       "    (0): Linear(in_features=800, out_features=10, bias=True)\n",
       "    (1): LogSoftmax()\n",
       "  )\n",
       ")"
      ]
     },
     "execution_count": 331,
     "metadata": {
      "tags": []
     },
     "output_type": "execute_result"
    }
   ],
   "source": [
    "mon_archi.to(device)"
   ]
  },
  {
   "cell_type": "code",
   "execution_count": 0,
   "metadata": {
    "colab": {},
    "colab_type": "code",
    "id": "j43MBOPKXcj4"
   },
   "outputs": [],
   "source": [
    "R = ReseauClassifGenerique(mon_archi, eta=0.1, alpha=0.1, nb_epoques=20, taille_batch=32, seed=16, device=device)"
   ]
  },
  {
   "cell_type": "code",
   "execution_count": 0,
   "metadata": {
    "colab": {
     "base_uri": "https://localhost:8080/",
     "height": 289
    },
    "colab_type": "code",
    "executionInfo": {
     "elapsed": 8580,
     "status": "ok",
     "timestamp": 1570455773660,
     "user": {
      "displayName": "Vera Shalaeva",
      "photoUrl": "https://lh3.googleusercontent.com/a-/AAuE7mDvnjuHGrxx7Es7qAuANXceHSDpVLvimnyjT5Rr=s64",
      "userId": "07735960414886372653"
     },
     "user_tz": -120
    },
    "id": "mdNlK--4O9MU",
    "outputId": "e520fce4-5864-4947-a49e-edec5a7152fb"
   },
   "outputs": [
    {
     "name": "stdout",
     "output_type": "stream",
     "text": [
      "[  1] perte: 0.00187 | erreur train: 0.000000 | erreur valid: 0.050000 <-- meilleur modèle à ce jour (max_t=11)\n",
      "[  2] perte: 0.00158 | erreur train: 0.000000 | erreur valid: 0.051667\n",
      "[  3] perte: 0.00144 | erreur train: 0.000000 | erreur valid: 0.050000\n",
      "[  4] perte: 0.00134 | erreur train: 0.000000 | erreur valid: 0.050000\n",
      "[  5] perte: 0.00120 | erreur train: 0.000000 | erreur valid: 0.051667\n",
      "Le temps d'apprentissage: 3.5344624519348145\n",
      "[  6] perte: 0.00113 | erreur train: 0.000000 | erreur valid: 0.053333\n",
      "[  7] perte: 0.00108 | erreur train: 0.000000 | erreur valid: 0.053333\n",
      "[  8] perte: 0.00100 | erreur train: 0.000000 | erreur valid: 0.051667\n",
      "[  9] perte: 0.00094 | erreur train: 0.000000 | erreur valid: 0.050000\n",
      "[ 10] perte: 0.00087 | erreur train: 0.000000 | erreur valid: 0.050000\n",
      "Le temps d'apprentissage: 6.932058811187744\n",
      "[ 11] perte: 0.00085 | erreur train: 0.000000 | erreur valid: 0.050000\n",
      "=== Optimisation terminée ===\n",
      "Le temps d'apprentissage complet: 7.458845138549805\n",
      "Early stopping à l'époque #1, avec erreur de validation de 0.04999995231628418\n"
     ]
    }
   ],
   "source": [
    "R.apprentissage(train_x_prime, train_y)"
   ]
  },
  {
   "cell_type": "code",
   "execution_count": 0,
   "metadata": {
    "colab": {
     "base_uri": "https://localhost:8080/",
     "height": 51
    },
    "colab_type": "code",
    "executionInfo": {
     "elapsed": 1328,
     "status": "ok",
     "timestamp": 1570455786499,
     "user": {
      "displayName": "Vera Shalaeva",
      "photoUrl": "https://lh3.googleusercontent.com/a-/AAuE7mDvnjuHGrxx7Es7qAuANXceHSDpVLvimnyjT5Rr=s64",
      "userId": "07735960414886372653"
     },
     "user_tz": -120
    },
    "id": "ZwlCEqhsdzS1",
    "outputId": "317f8f3a-ed5f-455f-a31a-16b1a79a45a8"
   },
   "outputs": [
    {
     "name": "stdout",
     "output_type": "stream",
     "text": [
      "Précision train: 0.99\n",
      "Précision test : 0.9595714285714285\n"
     ]
    }
   ],
   "source": [
    "from sklearn.metrics import accuracy_score\n",
    "train_pred = R.prediction(train_x_prime)\n",
    "test_pred = R.prediction(test_x_prime)\n",
    "print('Précision train:', accuracy_score(train_y, train_pred) )\n",
    "print('Précision test :', accuracy_score(test_y, test_pred))"
   ]
  },
  {
   "cell_type": "code",
   "execution_count": 0,
   "metadata": {
    "colab": {},
    "colab_type": "code",
    "id": "g1H3PR_hd8-m"
   },
   "outputs": [],
   "source": []
  }
 ],
 "metadata": {
  "accelerator": "GPU",
  "colab": {
   "collapsed_sections": [],
   "name": "Colab Utilisation GPU.ipynb",
   "provenance": [],
   "toc_visible": true
  },
  "kernelspec": {
   "display_name": "Python 3",
   "language": "python",
   "name": "python3"
  },
  "language_info": {
   "codemirror_mode": {
    "name": "ipython",
    "version": 3
   },
   "file_extension": ".py",
   "mimetype": "text/x-python",
   "name": "python",
   "nbconvert_exporter": "python",
   "pygments_lexer": "ipython3",
   "version": "3.7.3"
  }
 },
 "nbformat": 4,
 "nbformat_minor": 1
}

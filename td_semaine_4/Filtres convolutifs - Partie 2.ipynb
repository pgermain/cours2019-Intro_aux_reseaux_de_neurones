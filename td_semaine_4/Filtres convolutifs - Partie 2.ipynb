{
 "cells": [
  {
   "cell_type": "markdown",
   "metadata": {},
   "source": [
    "$\\newcommand{\\xbf}{{\\bf x}}\n",
    "\\newcommand{\\ybf}{{\\bf y}}\n",
    "\\newcommand{\\wbf}{{\\bf w}}\n",
    "\\newcommand{\\Ibf}{\\mathbf{I}}\n",
    "\\newcommand{\\Xbf}{\\mathbf{X}}\n",
    "\\newcommand{\\Rbb}{\\mathbb{R}}\n",
    "\\newcommand{\\vec}[1]{\\left[\\begin{array}{c}#1\\end{array}\\right]}\n",
    "$\n",
    "\n",
    "# Les filtres convolutifs (partie 2)\n",
    "Matériel de cours rédigé par Pascal Germain, 2019\n",
    "************"
   ]
  },
  {
   "cell_type": "code",
   "execution_count": null,
   "metadata": {},
   "outputs": [],
   "source": [
    "%matplotlib inline\n",
    "from matplotlib import pyplot as plt\n",
    "import numpy as np"
   ]
  },
  {
   "cell_type": "code",
   "execution_count": null,
   "metadata": {},
   "outputs": [],
   "source": [
    "import torch\n",
    "from torch import nn\n",
    "torch.__version__ # Ce notebook a été conçu avec la version '1.2.0' de pytorch"
   ]
  },
  {
   "cell_type": "markdown",
   "metadata": {},
   "source": [
    "## L'ensemble CIFAR\n",
    "\n",
    "Nous vous fournissons un sous-ensemble du jeu de données CIFAR10. Le jeu de donnée original provient de : https://www.cs.toronto.edu/~kriz/cifar.html\n",
    "\n",
    "Il s’agit d’un problème de classification multi-classes; le jeu de données contient des images couleurs de taille\n",
    "32 × 32 pixels représentant 10 catégories d’objets. Pour simplifier le problème et réduire le temps d’ap-\n",
    "prentissage requis, nous vous suggérons de conserver seulement les trois premières catégories : «avion»,\n",
    "«automobile» et «oiseau». Le répertoire `data/cifar` contient un fichier compressé par catégorie, chacun regroupant les images en format *PNG*.\n",
    "\n",
    "La méthode `charger_cifar` du fichier `cifar_utils` permet d’extraire les images compressées du jeu de données et de les transformer en vecteur de 3 × 32 × 32 = 3072 nombres réels compris entre 0.0 et 1.0, qui sont la concaténation des valeurs des canaux rouge, vert et bleu."
   ]
  },
  {
   "cell_type": "code",
   "execution_count": null,
   "metadata": {},
   "outputs": [],
   "source": [
    "from cifar_utils import charger_cifar, afficher_grille_cifar"
   ]
  },
  {
   "cell_type": "code",
   "execution_count": null,
   "metadata": {},
   "outputs": [],
   "source": [
    "repertoire_cifar = '../data/cifar/'\n",
    "classes_cifar = [0, 1, 2]\n",
    "\n",
    "data_x, data_y = charger_cifar(repertoire_cifar, classes_cifar)"
   ]
  },
  {
   "cell_type": "code",
   "execution_count": null,
   "metadata": {},
   "outputs": [],
   "source": [
    "np.shape(data_x)"
   ]
  },
  {
   "cell_type": "code",
   "execution_count": null,
   "metadata": {},
   "outputs": [],
   "source": [
    "data_y"
   ]
  },
  {
   "cell_type": "markdown",
   "metadata": {},
   "source": [
    "Séparons les images en un ensemble d'apprentissage et un ensemble de test"
   ]
  },
  {
   "cell_type": "code",
   "execution_count": null,
   "metadata": {},
   "outputs": [],
   "source": [
    "from sklearn.model_selection import train_test_split"
   ]
  },
  {
   "cell_type": "code",
   "execution_count": null,
   "metadata": {},
   "outputs": [],
   "source": [
    "train_x, test_x, train_y, test_y = train_test_split(data_x, data_y, test_size=0.5, random_state=42)\n",
    "print('train_x:', train_x.shape)\n",
    "print('test_x:', test_x.shape)\n",
    "print('train_y:', train_y.shape)\n",
    "print('test_y:', test_y.shape)"
   ]
  },
  {
   "cell_type": "markdown",
   "metadata": {},
   "source": [
    "La méthode `afficher_grille_cifar` du fichier `cifar_utils` permet visualiser un ensemble d'images."
   ]
  },
  {
   "cell_type": "code",
   "execution_count": null,
   "metadata": {},
   "outputs": [],
   "source": [
    "indices_aleatoires = np.random.randint(len(train_y), size=40)\n",
    "afficher_grille_cifar(train_x[indices_aleatoires])"
   ]
  },
  {
   "cell_type": "markdown",
   "metadata": {},
   "source": [
    "## Apprentissage d'un réseau pleinement connecté"
   ]
  },
  {
   "cell_type": "code",
   "execution_count": null,
   "metadata": {},
   "outputs": [],
   "source": [
    "from reseau_classif_generique import ReseauClassifGenerique"
   ]
  },
  {
   "cell_type": "code",
   "execution_count": null,
   "metadata": {},
   "outputs": [],
   "source": [
    "nb_entrees = 3 * 32 * 32\n",
    "nb_sorties = 3\n",
    "nb_neurones_cachees = 50\n",
    "\n",
    "archi_pleinement_connectee = nn.Sequential(\n",
    "            nn.Linear(nb_entrees, nb_neurones_cachees),\n",
    "            nn.ReLU(),\n",
    "            nn.Linear(nb_neurones_cachees, nb_sorties),\n",
    "            nn.LogSoftmax(dim=1)\n",
    "        )\n",
    "\n",
    "reseau_pc = ReseauClassifGenerique(archi_pleinement_connectee, eta=0.01, alpha=0.1, nb_epoques=500, \n",
    "                                   taille_batch=32, fraction_validation=.1, patience=20)\n",
    "\n",
    "reseau_pc.apprentissage(train_x, train_y)"
   ]
  },
  {
   "cell_type": "code",
   "execution_count": null,
   "metadata": {},
   "outputs": [],
   "source": [
    "train_pred = reseau_pc.prediction(train_x)\n",
    "test_pred = reseau_pc.prediction(test_x)\n",
    "print('Précision train:', accuracy_score(train_y, train_pred) )\n",
    "print('Précision test :', accuracy_score(test_y, test_pred))"
   ]
  },
  {
   "cell_type": "markdown",
   "metadata": {},
   "source": [
    "-----------\n",
    "## Exercice\n",
    "\n",
    "En vous inspirant du code réalisé lors de la première partie de ce TD, créer un réseau de neurones convolutifs pour l'ensemble CIFAR. La différence ici est que les filtres de convolutions devront prendre en considération les trois canaux de couleurs des images.\n",
    "\n",
    "Expérimentez des solutions avec une ou deux couches de convolutions, ainsi qu'avec des quantités et des tailles de filtres différents."
   ]
  },
  {
   "cell_type": "code",
   "execution_count": null,
   "metadata": {},
   "outputs": [],
   "source": []
  }
 ],
 "metadata": {
  "kernelspec": {
   "display_name": "Python 3",
   "language": "python",
   "name": "python3"
  },
  "language_info": {
   "codemirror_mode": {
    "name": "ipython",
    "version": 3
   },
   "file_extension": ".py",
   "mimetype": "text/x-python",
   "name": "python",
   "nbconvert_exporter": "python",
   "pygments_lexer": "ipython3",
   "version": "3.7.3"
  }
 },
 "nbformat": 4,
 "nbformat_minor": 2
}

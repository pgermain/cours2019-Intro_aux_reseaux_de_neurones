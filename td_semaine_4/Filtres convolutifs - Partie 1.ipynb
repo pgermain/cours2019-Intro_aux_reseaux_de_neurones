{
 "cells": [
  {
   "cell_type": "markdown",
   "metadata": {},
   "source": [
    "$\\newcommand{\\xbf}{{\\bf x}}\n",
    "\\newcommand{\\ybf}{{\\bf y}}\n",
    "\\newcommand{\\wbf}{{\\bf w}}\n",
    "\\newcommand{\\Ibf}{\\mathbf{I}}\n",
    "\\newcommand{\\Xbf}{\\mathbf{X}}\n",
    "\\newcommand{\\Rbb}{\\mathbb{R}}\n",
    "\\newcommand{\\vec}[1]{\\left[\\begin{array}{c}#1\\end{array}\\right]}\n",
    "$\n",
    "\n",
    "# Les filtres convolutifs (partie 1)\n",
    "Matériel de cours rédigé par Pascal Germain, 2019\n",
    "************"
   ]
  },
  {
   "cell_type": "code",
   "execution_count": null,
   "metadata": {},
   "outputs": [],
   "source": [
    "%matplotlib inline\n",
    "from matplotlib import pyplot as plt\n",
    "import numpy as np"
   ]
  },
  {
   "cell_type": "code",
   "execution_count": null,
   "metadata": {},
   "outputs": [],
   "source": [
    "import torch\n",
    "from torch import nn\n",
    "torch.__version__ # Ce notebook a été conçu avec la version '1.2.0' de pytorch"
   ]
  },
  {
   "cell_type": "markdown",
   "metadata": {},
   "source": [
    "### Chargement des données «MNIST»"
   ]
  },
  {
   "cell_type": "code",
   "execution_count": null,
   "metadata": {},
   "outputs": [],
   "source": [
    "repertoire_mnist = '../data/mnist/' # Modifier le répertoire au besoin"
   ]
  },
  {
   "cell_type": "code",
   "execution_count": null,
   "metadata": {},
   "outputs": [],
   "source": [
    "def charger_mnist(repertoire, etiquettes=None, max_par_etiquettes=None):\n",
    "    if etiquettes is None:\n",
    "         etiquettes = np.arange(10)\n",
    "    images_list = [None] * len(etiquettes)\n",
    "    labels_list = [None] * len(etiquettes)\n",
    "    for i, val in enumerate(etiquettes):\n",
    "        nom_fichier = repertoire + f'mnist_{val}.gz'\n",
    "        images_list[i] = np.genfromtxt(nom_fichier, max_rows=max_par_etiquettes, dtype=np.float32)\n",
    "        nb = images_list[i].shape[0]\n",
    "\n",
    "        labels_list[i] = i*np.ones(nb, dtype=np.int64)\n",
    "        print(val, ':', nb, 'images')\n",
    "        \n",
    "    x = np.vstack(images_list)\n",
    "    y = np.concatenate(labels_list)\n",
    "    print('Total :', len(y), 'images')\n",
    "    return x, y"
   ]
  },
  {
   "cell_type": "code",
   "execution_count": null,
   "metadata": {},
   "outputs": [],
   "source": [
    "data_x, data_y = charger_mnist(repertoire_mnist, etiquettes=None, max_par_etiquettes=1000)\n",
    "data_x = data_x / 255"
   ]
  },
  {
   "cell_type": "code",
   "execution_count": null,
   "metadata": {},
   "outputs": [],
   "source": [
    "plt.figure(figsize=(15,4))\n",
    "plt.imshow(data_x, cmap=plt.cm.gray, aspect=.025)\n",
    "plt.colorbar()"
   ]
  },
  {
   "cell_type": "markdown",
   "metadata": {},
   "source": [
    "Nous sélectionnons aléatoirement 4 images de l'ensemble MNIST qui servirons à illustrer les couches convolutives"
   ]
  },
  {
   "cell_type": "code",
   "execution_count": null,
   "metadata": {},
   "outputs": [],
   "source": [
    "nb_images = 4\n",
    "dimension = 28\n",
    "indices = np.random.randint(len(data_y), size=nb_images)\n",
    "sample_x = data_x[indices,:]\n",
    "sample_x.shape"
   ]
  },
  {
   "cell_type": "markdown",
   "metadata": {},
   "source": [
    "Convertissons ces images en **tenseurs pyTorch** de 4 dimensions: $m \\times c \\times h \\times l$, où:\n",
    "1. $m$ est le nombre d'images (lors de l'apprentissage, cela correspondra à la taille de la «minibatch»\n",
    "2. $c$ est le nombre de «canaux» de l'image. Ici, nous avons un seul canal, car les images sont en teinte de gris. Typiquement, une image  couleur aura trois canaux: rouge, vert, bleu.\n",
    "3. $h$ correspond à la hauteur de l'image, en nombre de pixels.\n",
    "4. $c$ correspond à la largeur de l'image, en nombre de pixels."
   ]
  },
  {
   "cell_type": "code",
   "execution_count": null,
   "metadata": {},
   "outputs": [],
   "source": [
    "images = torch.tensor(sample_x).view(nb_images, 1, dimension, dimension)\n",
    "images.shape"
   ]
  },
  {
   "cell_type": "markdown",
   "metadata": {},
   "source": [
    "Le module `torchvision` contient des fonctions utilitaires pour le traitement des images. Ici, nous utiliserons la fonction `make_grid` pour afficher plusieurs images à la fois"
   ]
  },
  {
   "cell_type": "code",
   "execution_count": null,
   "metadata": {},
   "outputs": [],
   "source": [
    "from torchvision.utils import make_grid\n",
    "def afficher_grille(images):\n",
    "    plt.figure(figsize=(15,4))\n",
    "    grid = make_grid(images, pad_value=torch.max(images).item())\n",
    "    plt.imshow(grid[0].detach(), cmap=plt.cm.gray)\n",
    "    plt.colorbar()"
   ]
  },
  {
   "cell_type": "code",
   "execution_count": null,
   "metadata": {},
   "outputs": [],
   "source": [
    "afficher_grille(images)"
   ]
  },
  {
   "cell_type": "markdown",
   "metadata": {},
   "source": [
    "### Convolutions\n",
    "\n",
    "Soit une image $I\\in\\Rbb^{m\\times n}$ et un filtre de convolution $F\\in\\Rbb^{k\\times k}$\n",
    "de taille impaire $k=2d+1$ (avec $d\\in\\mathbb N^+$).\n",
    "\n",
    "Pour $x \\in \\{1+d,\\ldots, m-d\\}$ et $y \\in \\{1+d,\\ldots, n-d\\}$:\n",
    "$$\\begin{align*}\n",
    "\t(I\\star F)[x,y] = b + \\sum_{i=-d}^{+d} \\sum_{j=-d}^{+d} I[x{+}i, y{+}j] \\times F[i{+}d{+}1,j{+}d{+}1].\n",
    "\\end{align*}$$\n",
    "\n",
    "Notons que l'équation précédente contient aussi un paramètre de biais $b\\in\\Rbb$."
   ]
  },
  {
   "cell_type": "code",
   "execution_count": null,
   "metadata": {},
   "outputs": [],
   "source": [
    "nn.Conv2d?"
   ]
  },
  {
   "cell_type": "markdown",
   "metadata": {},
   "source": [
    "Nous nous concentrerons sur les 3 premiers arguments nécessaires pour la création d'un filtre convolutif:\n",
    "1. Le nombre de canaux (ici 1, car notre image est en teintes de gris. Ce serait 3 pour une image en couleur),\n",
    "2. Le nombre de canaux de sortie. Autrement dit, le nombre de filtres apprit (1 pour l'exemple ci-bas, mais on utilise typiquement une valeur plus élevée dans un réseau de neurones).\n",
    "3. La taille de chaque filtre (en nombre de pixels)."
   ]
  },
  {
   "cell_type": "code",
   "execution_count": null,
   "metadata": {},
   "outputs": [],
   "source": [
    "conv = nn.Conv2d(1,1,3)"
   ]
  },
  {
   "cell_type": "code",
   "execution_count": null,
   "metadata": {},
   "outputs": [],
   "source": [
    "conv.weight"
   ]
  },
  {
   "cell_type": "code",
   "execution_count": null,
   "metadata": {},
   "outputs": [],
   "source": [
    "conv.weight.shape"
   ]
  },
  {
   "cell_type": "code",
   "execution_count": null,
   "metadata": {},
   "outputs": [],
   "source": [
    "conv.bias"
   ]
  },
  {
   "cell_type": "code",
   "execution_count": null,
   "metadata": {},
   "outputs": [],
   "source": [
    "conv_images = conv(images)"
   ]
  },
  {
   "cell_type": "code",
   "execution_count": null,
   "metadata": {},
   "outputs": [],
   "source": [
    "conv_images.shape"
   ]
  },
  {
   "cell_type": "code",
   "execution_count": null,
   "metadata": {},
   "outputs": [],
   "source": [
    "afficher_grille(conv_images)"
   ]
  },
  {
   "cell_type": "markdown",
   "metadata": {},
   "source": [
    "Notons que les images précédentes sont le résultat de l'application d'un filtre de convolution dont les poids ont été initialisés aléatoirement.\n",
    "\n",
    "Essayons maintenant quelques *filtres de Sobel*.\n",
    "Voir https://fr.wikipedia.org/wiki/Filtre_de_Sobel"
   ]
  },
  {
   "cell_type": "code",
   "execution_count": null,
   "metadata": {},
   "outputs": [],
   "source": [
    "left_sobel =  nn.Conv2d(1,1,3, bias=False)\n",
    "left_sobel.weight = nn.Parameter(torch.Tensor([[[[1, 0, -1], [2, 0, -2], [1, 0, -1]]]]))\n",
    "afficher_grille(left_sobel(images))"
   ]
  },
  {
   "cell_type": "code",
   "execution_count": null,
   "metadata": {},
   "outputs": [],
   "source": [
    "left_sobel.weight"
   ]
  },
  {
   "cell_type": "code",
   "execution_count": null,
   "metadata": {},
   "outputs": [],
   "source": [
    "right_sobel = nn.Conv2d(1,1,3, bias=False)\n",
    "right_sobel.weight = nn.Parameter(torch.Tensor([[[[-1, 0, 1], [-2, 0, 2], [-1, 0, 1]]]]))\n",
    "afficher_grille(right_sobel(images))"
   ]
  },
  {
   "cell_type": "code",
   "execution_count": null,
   "metadata": {},
   "outputs": [],
   "source": [
    "up_sobel =  nn.Conv2d(1,1,3, bias=False)\n",
    "up_sobel.weight = nn.Parameter(torch.Tensor([[[[1,2,1], [0, 0, 0], [-1, -2, -1]]]]))\n",
    "afficher_grille(up_sobel(images))"
   ]
  },
  {
   "cell_type": "code",
   "execution_count": null,
   "metadata": {},
   "outputs": [],
   "source": [
    "down_sobel =  nn.Conv2d(1,1,3, bias=False)\n",
    "down_sobel.weight = nn.Parameter(torch.Tensor([[[[-1,-2,-1], [0, 0, 0], [1,2,1]]]]))\n",
    "afficher_grille(down_sobel(images))"
   ]
  },
  {
   "cell_type": "code",
   "execution_count": null,
   "metadata": {},
   "outputs": [],
   "source": [
    "afficher_grille(up_sobel(down_sobel(images)))"
   ]
  },
  {
   "cell_type": "code",
   "execution_count": null,
   "metadata": {},
   "outputs": [],
   "source": [
    "afficher_grille(left_sobel(right_sobel(up_sobel(down_sobel(images)))))"
   ]
  },
  {
   "cell_type": "markdown",
   "metadata": {},
   "source": [
    "### «Max Pooling»"
   ]
  },
  {
   "cell_type": "code",
   "execution_count": null,
   "metadata": {},
   "outputs": [],
   "source": [
    "nn.MaxPool2d?"
   ]
  },
  {
   "cell_type": "code",
   "execution_count": null,
   "metadata": {},
   "outputs": [],
   "source": [
    "mp = nn.MaxPool2d(2)\n",
    "mp(images).shape"
   ]
  },
  {
   "cell_type": "code",
   "execution_count": null,
   "metadata": {},
   "outputs": [],
   "source": [
    "afficher_grille(mp(images))"
   ]
  },
  {
   "cell_type": "code",
   "execution_count": null,
   "metadata": {},
   "outputs": [],
   "source": [
    "afficher_grille(mp(up_sobel(images)))"
   ]
  },
  {
   "cell_type": "code",
   "execution_count": null,
   "metadata": {},
   "outputs": [],
   "source": [
    "afficher_grille(down_sobel(mp(up_sobel(images))))"
   ]
  },
  {
   "cell_type": "markdown",
   "metadata": {},
   "source": [
    "## CNN: Réseaux de neurones à convolutions"
   ]
  },
  {
   "cell_type": "markdown",
   "metadata": {},
   "source": [
    "Séparons d'abord les données en un ensemble d'apprentissage et un ensemble de test"
   ]
  },
  {
   "cell_type": "code",
   "execution_count": null,
   "metadata": {},
   "outputs": [],
   "source": [
    "from sklearn.model_selection import train_test_split\n",
    "train_x, test_x, train_y, test_y = train_test_split(data_x, data_y, test_size=0.5, random_state=42)\n",
    "print('train_x:', train_x.shape)\n",
    "print('test_x:', test_x.shape)\n",
    "print('train_y:', train_y.shape)\n",
    "print('test_y:', test_y.shape)"
   ]
  },
  {
   "cell_type": "code",
   "execution_count": null,
   "metadata": {},
   "outputs": [],
   "source": [
    "plt.figure(figsize=(15,2))\n",
    "plt.imshow(train_x, cmap=plt.cm.gray, aspect=.025)\n",
    "plt.colorbar()"
   ]
  },
  {
   "cell_type": "markdown",
   "metadata": {},
   "source": [
    "Il est une bonne pratique de normaliser les valeurs des attributs avant l'apprentissage. Ci-bas, nous utilisons une fonction de *pré-traitement* de librairie `scikit-learn` qui appliquera une transformation linéaire afin que chaque attribut ait une moyenne nulle et une variance untité."
   ]
  },
  {
   "cell_type": "code",
   "execution_count": null,
   "metadata": {},
   "outputs": [],
   "source": [
    "from sklearn.preprocessing import StandardScaler"
   ]
  },
  {
   "cell_type": "code",
   "execution_count": null,
   "metadata": {},
   "outputs": [],
   "source": [
    "StandardScaler?"
   ]
  },
  {
   "cell_type": "code",
   "execution_count": null,
   "metadata": {},
   "outputs": [],
   "source": [
    "scaler = StandardScaler()\n",
    "scaler.fit(train_x)\n",
    "train_x_prime = scaler.transform(train_x)\n",
    "test_x_prime = scaler.transform(test_x)"
   ]
  },
  {
   "cell_type": "code",
   "execution_count": null,
   "metadata": {},
   "outputs": [],
   "source": [
    "plt.figure(figsize=(15,2))\n",
    "plt.imshow(train_x_prime, vmin=-1.5, vmax=1.5, cmap=plt.cm.gray, aspect=.025)\n",
    "plt.colorbar()"
   ]
  },
  {
   "cell_type": "markdown",
   "metadata": {},
   "source": [
    "### Créons un réseau de neurones"
   ]
  },
  {
   "cell_type": "markdown",
   "metadata": {},
   "source": [
    "Nous réutilisons la classe `reseau_classif_generique` introduite lors du TD précédent."
   ]
  },
  {
   "cell_type": "code",
   "execution_count": null,
   "metadata": {},
   "outputs": [],
   "source": [
    "from reseau_classif_generique import ReseauClassifGenerique"
   ]
  },
  {
   "cell_type": "code",
   "execution_count": null,
   "metadata": {},
   "outputs": [],
   "source": [
    "ReseauClassifGenerique?"
   ]
  },
  {
   "cell_type": "markdown",
   "metadata": {},
   "source": [
    "Ci-bas, nous modélisons l'architecture du réseau de neurones en créant une classe qui hérite de la classe pytorch `nn.Module`. Ce faisant, nous précisons la procédure d'initialisation (méthode `__init__`) et la fonction de propagation avant (méthode `forward`)."
   ]
  },
  {
   "cell_type": "code",
   "execution_count": null,
   "metadata": {},
   "outputs": [],
   "source": [
    "class UneArchiPourMNIST(nn.Module):\n",
    "    def __init__(self, nb_filtres=32, taille_noyau=3):\n",
    "        # Initialisation de la classe de base nn.Module\n",
    "        super().__init__()\n",
    "        \n",
    "        # Créons une couche de convolution \n",
    "        self.modele_conv = nn.Sequential(\n",
    "            nn.Conv2d(1, nb_filtres, kernel_size=taille_noyau),\n",
    "            nn.ReLU(),\n",
    "            nn.MaxPool2d(2),\n",
    "        )\n",
    "        \n",
    "        # La convolution est suivie d'une couche de sortie \n",
    "        self.nb_neurones_du_milieu = nb_filtres * ((28-taille_noyau+1)//2)**2\n",
    "        self.modele_plein = nn.Sequential(\n",
    "            nn.Linear(self.nb_neurones_du_milieu, 10),\n",
    "            nn.LogSoftmax(dim=1)\n",
    "        )\n",
    "        \n",
    "    def forward(self, x):\n",
    "        # Propageons la «batch». Notez que nous devons redimensionner nos données consciencieusement\n",
    "        x0 = x.view(-1, 1, 28, 28)\n",
    "        x1 = self.modele_conv(x0)\n",
    "        x2 = x1.view(-1, self.nb_neurones_du_milieu)\n",
    "        x3 = self.modele_plein(x2)\n",
    "        return x3\n"
   ]
  },
  {
   "cell_type": "markdown",
   "metadata": {},
   "source": [
    "Comme notre classe `UneArchiPourMNIST` hérite de la classe `nn.Module`, pytorch détecte automatiquement l'ensemble des paramètres à optimiser."
   ]
  },
  {
   "cell_type": "code",
   "execution_count": null,
   "metadata": {},
   "outputs": [],
   "source": [
    "mon_archi = UneArchiPourMNIST(nb_filtres=1, taille_noyau=5)\n",
    "mon_archi"
   ]
  },
  {
   "cell_type": "code",
   "execution_count": null,
   "metadata": {},
   "outputs": [],
   "source": [
    "for params in mon_archi.parameters():\n",
    "    print(params)\n",
    "    print('----')"
   ]
  },
  {
   "cell_type": "markdown",
   "metadata": {},
   "source": [
    "Dans le code suivant, l'appel à `mon_archi(une_image)` exécute `mon_archi.forward(une_image)`."
   ]
  },
  {
   "cell_type": "code",
   "execution_count": null,
   "metadata": {},
   "outputs": [],
   "source": [
    "une_image = torch.tensor(train_x_prime[1,:])\n",
    "mon_archi(une_image)"
   ]
  },
  {
   "cell_type": "markdown",
   "metadata": {},
   "source": [
    "Nous pouvons maintenant lancer la procédure d'apprentissage de notre réseau convolutif."
   ]
  },
  {
   "cell_type": "code",
   "execution_count": null,
   "metadata": {},
   "outputs": [],
   "source": [
    "mon_archi = UneArchiPourMNIST(nb_filtres=32, taille_noyau=3)\n",
    "R = ReseauClassifGenerique(mon_archi, eta=0.1, alpha=0.1, nb_epoques=20, taille_batch=32)"
   ]
  },
  {
   "cell_type": "code",
   "execution_count": null,
   "metadata": {},
   "outputs": [],
   "source": [
    "R.apprentissage(train_x_prime, train_y)"
   ]
  },
  {
   "cell_type": "code",
   "execution_count": null,
   "metadata": {},
   "outputs": [],
   "source": [
    "from sklearn.metrics import accuracy_score\n",
    "train_pred = R.prediction(train_x_prime)\n",
    "test_pred = R.prediction(test_x_prime)\n",
    "print('Précision train:', accuracy_score(train_y, train_pred) )\n",
    "print('Précision test :', accuracy_score(test_y, test_pred))"
   ]
  },
  {
   "cell_type": "markdown",
   "metadata": {},
   "source": [
    "### Visualisation des filtres appris"
   ]
  },
  {
   "cell_type": "code",
   "execution_count": null,
   "metadata": {},
   "outputs": [],
   "source": [
    "afficher_grille(mon_archi.modele_conv[0].weight)"
   ]
  },
  {
   "cell_type": "markdown",
   "metadata": {},
   "source": [
    "### Visualisation de la représentation interne du réseau"
   ]
  },
  {
   "cell_type": "code",
   "execution_count": null,
   "metadata": {},
   "outputs": [],
   "source": [
    "def afficher_activations(x, modele, etape):\n",
    "    image = torch.tensor(x).view(1,1,28,28)\n",
    "    sous_modele = modele[0:etape]\n",
    "    print(sous_modele)\n",
    "    couche = sous_modele(image)\n",
    "    afficher_grille(couche.transpose(0,1))"
   ]
  },
  {
   "cell_type": "code",
   "execution_count": null,
   "metadata": {},
   "outputs": [],
   "source": [
    "afficher_activations(train_x_prime[0], mon_archi.modele_conv, 1)"
   ]
  },
  {
   "cell_type": "code",
   "execution_count": null,
   "metadata": {},
   "outputs": [],
   "source": [
    "afficher_activations(train_x_prime[0], mon_archi.modele_conv, 2)"
   ]
  },
  {
   "cell_type": "code",
   "execution_count": null,
   "metadata": {},
   "outputs": [],
   "source": [
    "afficher_activations(train_x_prime[0], mon_archi.modele_conv, 3)"
   ]
  },
  {
   "cell_type": "markdown",
   "metadata": {},
   "source": [
    "************\n",
    "\n",
    "# À vous de jouer.\n",
    "\n",
    "Essayez d'autres architectures de réseau de neurones convolutif, et tentez d'interpréter les résultats obtenus. Parmi les différentes possibilités, vous pouvez:\n",
    "* Changer la taille et le nombre de filtres convolutifs\n",
    "* Ajouter une ou plusieurs couches de filtres convolutifs dans la première partie du réseau\n",
    "* Ajouter davantage de couches pleinement connectées dans la seconde partie du réseau\n",
    "* Comparer les résultats obtenus sans appliquer la renormalisation `StandardScaler`\n"
   ]
  },
  {
   "cell_type": "code",
   "execution_count": null,
   "metadata": {},
   "outputs": [],
   "source": []
  }
 ],
 "metadata": {
  "kernelspec": {
   "display_name": "Python 3",
   "language": "python",
   "name": "python3"
  },
  "language_info": {
   "codemirror_mode": {
    "name": "ipython",
    "version": 3
   },
   "file_extension": ".py",
   "mimetype": "text/x-python",
   "name": "python",
   "nbconvert_exporter": "python",
   "pygments_lexer": "ipython3",
   "version": "3.6.8"
  }
 },
 "nbformat": 4,
 "nbformat_minor": 2
}

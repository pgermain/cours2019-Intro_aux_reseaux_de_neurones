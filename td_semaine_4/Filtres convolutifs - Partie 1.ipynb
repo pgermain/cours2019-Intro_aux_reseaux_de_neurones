{
 "cells": [
  {
   "cell_type": "markdown",
   "metadata": {},
   "source": [
    "$\\newcommand{\\xbf}{{\\bf x}}\n",
    "\\newcommand{\\ybf}{{\\bf y}}\n",
    "\\newcommand{\\wbf}{{\\bf w}}\n",
    "\\newcommand{\\Ibf}{\\mathbf{I}}\n",
    "\\newcommand{\\Xbf}{\\mathbf{X}}\n",
    "\\newcommand{\\Rbb}{\\mathbb{R}}\n",
    "\\newcommand{\\vec}[1]{\\left[\\begin{array}{c}#1\\end{array}\\right]}\n",
    "$\n",
    "\n",
    "# Les filtres convolutifs (partie 1)\n",
    "Matériel de cours rédigé par Pascal Germain, 2019\n",
    "************"
   ]
  },
  {
   "cell_type": "code",
   "execution_count": null,
   "metadata": {},
   "outputs": [],
   "source": [
    "%matplotlib inline\n",
    "from matplotlib import pyplot as plt\n",
    "import numpy as np"
   ]
  },
  {
   "cell_type": "code",
   "execution_count": null,
   "metadata": {},
   "outputs": [],
   "source": [
    "import torch\n",
    "from torch import nn\n",
    "torch.__version__ # Ce notebook a été conçu avec la version '1.2.0' de pytorch"
   ]
  },
  {
   "cell_type": "markdown",
   "metadata": {},
   "source": [
    "### Chargement des données «MNIST»"
   ]
  },
  {
   "cell_type": "code",
   "execution_count": null,
   "metadata": {},
   "outputs": [],
   "source": [
    "repertoire_mnist = '../data/mnist/' # Modifier le répertoire au besoin"
   ]
  },
  {
   "cell_type": "code",
   "execution_count": null,
   "metadata": {},
   "outputs": [],
   "source": [
    "def charger_mnist(repertoire, etiquettes=None, max_par_etiquettes=None):\n",
    "    if etiquettes is None:\n",
    "         etiquettes = np.arange(10)\n",
    "    images_list = [None] * len(etiquettes)\n",
    "    labels_list = [None] * len(etiquettes)\n",
    "    for i, val in enumerate(etiquettes):\n",
    "        nom_fichier = repertoire + f'mnist_{val}.gz'\n",
    "        images_list[i] = np.genfromtxt(nom_fichier, max_rows=max_par_etiquettes, dtype=np.float32)\n",
    "        nb = images_list[i].shape[0]\n",
    "\n",
    "        labels_list[i] = i*np.ones(nb, dtype=np.int64)\n",
    "        print(val, ':', nb, 'images')\n",
    "        \n",
    "    x = np.vstack(images_list)\n",
    "    y = np.concatenate(labels_list)\n",
    "    print('Total :', len(y), 'images')\n",
    "    return x, y"
   ]
  },
  {
   "cell_type": "code",
   "execution_count": null,
   "metadata": {},
   "outputs": [],
   "source": [
    "data_x, data_y = charger_mnist(repertoire_mnist, etiquettes=None, max_par_etiquettes=1000)\n",
    "data_x = data_x / 255"
   ]
  },
  {
   "cell_type": "code",
   "execution_count": null,
   "metadata": {},
   "outputs": [],
   "source": [
    "plt.figure(figsize=(15,4))\n",
    "plt.imshow(data_x, cmap=plt.cm.gray, aspect=.025)\n",
    "plt.colorbar()"
   ]
  },
  {
   "cell_type": "markdown",
   "metadata": {},
   "source": [
    "Nous sélectionnons aléatoirement 4 images de l'ensemble MNIST qui servirons à illustrer les couches convolutives"
   ]
  },
  {
   "cell_type": "code",
   "execution_count": null,
   "metadata": {},
   "outputs": [],
   "source": [
    "nb_images = 4\n",
    "dimension = 28\n",
    "indices = np.random.randint(len(data_y), size=nb_images)\n",
    "sample_x = data_x[indices,:]\n",
    "sample_x.shape"
   ]
  },
  {
   "cell_type": "markdown",
   "metadata": {},
   "source": [
    "Convertissons ces images en **tenseurs pyTorch** de 4 dimensions: $m \\times c \\times h \\times l$, où:\n",
    "1. $m$ est le nombre d'images (lors de l'apprentissage, cela correspondra à la taille de la «minibatch»\n",
    "2. $c$ est le nombre de «canaux» de l'image. Ici, nous avons un seul canal, car les images sont en teinte de gris. Typiquement, une image  couleur aura trois canaux: rouge, vert, bleu.\n",
    "3. $h$ correspond à la hauteur de l'image, en nombre de pixels.\n",
    "4. $c$ correspond à la largeur de l'image, en nombre de pixels."
   ]
  },
  {
   "cell_type": "code",
   "execution_count": null,
   "metadata": {},
   "outputs": [],
   "source": [
    "images = torch.tensor(sample_x).view(nb_images, 1, dimension, dimension)\n",
    "images.shape"
   ]
  },
  {
   "cell_type": "markdown",
   "metadata": {},
   "source": [
    "Le module `torchvision` contient des fonctions utilitaires pour le traitement des images. Ici, nous utiliserons la fonction `make_grid` pour afficher plusieurs images à la fois"
   ]
  },
  {
   "cell_type": "code",
   "execution_count": null,
   "metadata": {},
   "outputs": [],
   "source": [
    "from torchvision.utils import make_grid\n",
    "def afficher_grille(images):\n",
    "    plt.figure(figsize=(15,4))\n",
    "    grid = make_grid(images, pad_value=torch.max(images).item())\n",
    "    plt.imshow(grid[0].detach(), cmap=plt.cm.gray)\n",
    "    plt.colorbar()"
   ]
  },
  {
   "cell_type": "code",
   "execution_count": null,
   "metadata": {},
   "outputs": [],
   "source": [
    "afficher_grille(images)"
   ]
  },
  {
   "cell_type": "markdown",
   "metadata": {},
   "source": [
    "### Convolutions\n",
    "\n",
    "Soit une image $I\\in\\Rbb^{m\\times n}$ et un filtre de convolution $F\\in\\Rbb^{k\\times k}$\n",
    "de taille impaire $k=2d+1$ (avec $d\\in\\mathbb N^+$).\n",
    "\n",
    "Pour $x \\in \\{1,\\ldots, m-2d\\}$ et $y \\in \\{1,\\ldots, n-2d\\}$:\n",
    "$$\\begin{align*}\n",
    "\t(I\\star F)[x-d,y-d] = b + \\sum_{i=-d}^{+d} \\sum_{j=-d}^{+d} I[x{+}i, y{+}j] \\times F[i{+}d{+}1,j{+}d{+}1].\n",
    "\\end{align*}$$\n",
    "\n",
    "Notons que l'équation précédente contient aussi un paramètre de biais $b\\in\\Rbb$."
   ]
  },
  {
   "cell_type": "code",
   "execution_count": null,
   "metadata": {},
   "outputs": [],
   "source": [
    "nn.Conv2d?"
   ]
  },
  {
   "cell_type": "markdown",
   "metadata": {},
   "source": [
    "Nous nous concentrerons sur les 3 premiers arguments nécessaires pour la création d'un filtre convolutif:\n",
    "1. Le nombre de canaux (ici 1, car notre image est en teintes de gris. Ce serait 3 pour une image en couleur),\n",
    "2. Le nombre de canaux de sortie. Autrement dit, le nombre de filtres apprit (1 pour l'exemple ci-bas, mais on utilise typiquement une valeur plus élevée dans un réseau de neurones).\n",
    "3. La taille de chaque filtre (en nombre de pixels)."
   ]
  },
  {
   "cell_type": "code",
   "execution_count": null,
   "metadata": {},
   "outputs": [],
   "source": [
    "conv = nn.Conv2d(1,1,3)"
   ]
  },
  {
   "cell_type": "code",
   "execution_count": null,
   "metadata": {},
   "outputs": [],
   "source": [
    "conv.weight"
   ]
  },
  {
   "cell_type": "code",
   "execution_count": null,
   "metadata": {},
   "outputs": [],
   "source": [
    "conv.weight.shape"
   ]
  },
  {
   "cell_type": "code",
   "execution_count": null,
   "metadata": {},
   "outputs": [],
   "source": [
    "conv.bias"
   ]
  },
  {
   "cell_type": "code",
   "execution_count": null,
   "metadata": {},
   "outputs": [],
   "source": [
    "conv_images = conv(images)"
   ]
  },
  {
   "cell_type": "code",
   "execution_count": null,
   "metadata": {},
   "outputs": [],
   "source": [
    "conv_images.shape"
   ]
  },
  {
   "cell_type": "code",
   "execution_count": null,
   "metadata": {},
   "outputs": [],
   "source": [
    "afficher_grille(conv_images)"
   ]
  },
  {
   "cell_type": "markdown",
   "metadata": {},
   "source": [
    "Notons que les images précédentes sont le résultat de l'application d'un filtre de convolution dont les poids ont été initialisés aléatoirement.\n",
    "\n",
    "Essayons maintenant quelques *filtres de Sobel*.\n",
    "Voir https://fr.wikipedia.org/wiki/Filtre_de_Sobel"
   ]
  },
  {
   "cell_type": "code",
   "execution_count": null,
   "metadata": {},
   "outputs": [],
   "source": [
    "left_sobel =  nn.Conv2d(1,1,3, bias=False)\n",
    "left_sobel.weight = nn.Parameter(torch.Tensor([[[[1, 0, -1], [2, 0, -2], [1, 0, -1]]]]))\n",
    "afficher_grille(left_sobel(images))"
   ]
  },
  {
   "cell_type": "code",
   "execution_count": null,
   "metadata": {},
   "outputs": [],
   "source": [
    "left_sobel.weight"
   ]
  },
  {
   "cell_type": "code",
   "execution_count": null,
   "metadata": {},
   "outputs": [],
   "source": [
    "right_sobel = nn.Conv2d(1,1,3, bias=False)\n",
    "right_sobel.weight = nn.Parameter(torch.Tensor([[[[-1, 0, 1], [-2, 0, 2], [-1, 0, 1]]]]))\n",
    "afficher_grille(right_sobel(images))"
   ]
  },
  {
   "cell_type": "code",
   "execution_count": null,
   "metadata": {},
   "outputs": [],
   "source": [
    "up_sobel =  nn.Conv2d(1,1,3, bias=False)\n",
    "up_sobel.weight = nn.Parameter(torch.Tensor([[[[1,2,1], [0, 0, 0], [-1, -2, -1]]]]))\n",
    "afficher_grille(up_sobel(images))"
   ]
  },
  {
   "cell_type": "code",
   "execution_count": null,
   "metadata": {},
   "outputs": [],
   "source": [
    "down_sobel =  nn.Conv2d(1,1,3, bias=False)\n",
    "down_sobel.weight = nn.Parameter(torch.Tensor([[[[-1,-2,-1], [0, 0, 0], [1,2,1]]]]))\n",
    "afficher_grille(down_sobel(images))"
   ]
  },
  {
   "cell_type": "code",
   "execution_count": null,
   "metadata": {},
   "outputs": [],
   "source": [
    "afficher_grille(up_sobel(down_sobel(images)))"
   ]
  },
  {
   "cell_type": "code",
   "execution_count": null,
   "metadata": {},
   "outputs": [],
   "source": [
    "afficher_grille(left_sobel(right_sobel(up_sobel(down_sobel(images)))))"
   ]
  },
  {
   "cell_type": "markdown",
   "metadata": {},
   "source": [
    "### «Max Pooling»"
   ]
  },
  {
   "cell_type": "code",
   "execution_count": null,
   "metadata": {},
   "outputs": [],
   "source": [
    "nn.MaxPool2d?"
   ]
  },
  {
   "cell_type": "code",
   "execution_count": null,
   "metadata": {},
   "outputs": [],
   "source": [
    "mp = nn.MaxPool2d(2)\n",
    "mp(images).shape"
   ]
  },
  {
   "cell_type": "code",
   "execution_count": null,
   "metadata": {},
   "outputs": [],
   "source": [
    "afficher_grille(mp(images))"
   ]
  },
  {
   "cell_type": "code",
   "execution_count": null,
   "metadata": {},
   "outputs": [],
   "source": [
    "afficher_grille(mp(up_sobel(images)))"
   ]
  },
  {
   "cell_type": "code",
   "execution_count": null,
   "metadata": {},
   "outputs": [],
   "source": [
    "afficher_grille(down_sobel(mp(up_sobel(images))))"
   ]
  },
  {
   "cell_type": "code",
   "execution_count": null,
   "metadata": {},
   "outputs": [],
   "source": []
  },
  {
   "cell_type": "code",
   "execution_count": null,
   "metadata": {},
   "outputs": [],
   "source": []
  }
 ],
 "metadata": {
  "kernelspec": {
   "display_name": "Python 3",
   "language": "python",
   "name": "python3"
  },
  "language_info": {
   "codemirror_mode": {
    "name": "ipython",
    "version": 3
   },
   "file_extension": ".py",
   "mimetype": "text/x-python",
   "name": "python",
   "nbconvert_exporter": "python",
   "pygments_lexer": "ipython3",
   "version": "3.7.3"
  }
 },
 "nbformat": 4,
 "nbformat_minor": 2
}

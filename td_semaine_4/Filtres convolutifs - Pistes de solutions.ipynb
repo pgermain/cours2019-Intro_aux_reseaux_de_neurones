{
 "cells": [
  {
   "cell_type": "markdown",
   "metadata": {},
   "source": [
    "# Filtres convolutifs -- Pistes de solutions\n",
    "Matériel de cours rédigé par Pascal Germain, 2019\n",
    "************"
   ]
  },
  {
   "cell_type": "markdown",
   "metadata": {},
   "source": [
    "### Changer la taille et le nombre de filtres convolutifs\n",
    "\n",
    "Ici, nous réutilisons la classe `UneArchiPourMNIST` pour obtenir 64 filtres de taille 9 chacun."
   ]
  },
  {
   "cell_type": "code",
   "execution_count": null,
   "metadata": {},
   "outputs": [],
   "source": [
    "mon_archi = UneArchiPourMNIST(nb_filtres=64, taille_noyau=9)\n",
    "R = ReseauClassifGenerique(mon_archi, eta=0.1, alpha=0.1, nb_epoques=20, taille_batch=32)"
   ]
  },
  {
   "cell_type": "markdown",
   "metadata": {},
   "source": [
    "### Ajouter une ou plusieurs couches de filtres convolutifs dans la première partie du réseau\n",
    "\n",
    "Modifions la classe `UneArchiPourMNIST` afin d'ajouter une 2e couche de filtres  convolutifs."
   ]
  },
  {
   "cell_type": "code",
   "execution_count": null,
   "metadata": {},
   "outputs": [],
   "source": [
    "class Archi2CouchesCovolutives(nn.Module):\n",
    "    def __init__(self, couche1_nb_filtres=16, couche1_taille_noyau=9, \n",
    "                       couche2_nb_filtres=32, couche2_taille_noyau=3):\n",
    "        # Initialisation de la classe de base nn.Module\n",
    "        super().__init__()\n",
    "        \n",
    "        # Créons deux couches de convolution \n",
    "        self.modele_conv = nn.Sequential(\n",
    "            # Première couche de convolution\n",
    "            nn.Conv2d(1, couche1_nb_filtres, kernel_size=couche1_taille_noyau),\n",
    "            nn.ReLU(),\n",
    "            nn.MaxPool2d(2),\n",
    "            # NOUVEAUTÉ: Deuxième couche de convolution\n",
    "            nn.Conv2d(couche1_nb_filtres, couche2_nb_filtres, kernel_size=couche2_taille_noyau),\n",
    "            nn.ReLU(),\n",
    "            nn.MaxPool2d(2),\n",
    "        )\n",
    "        \n",
    "        # La convolution est suivie d'une couche de sortie\n",
    "        # NOUVEAUTÉ: Calcul du nombre de neurones sur la couche pleinement connectée\n",
    "        #            considérant la 2e couche de convolution\n",
    "        nb_pixels = (28 - couche1_taille_noyau + 1) // 2 \n",
    "        nb_pixels = (nb_pixels - couche2_taille_noyau + 1) // 2\n",
    "        self.nb_neurones_du_milieu = couche2_nb_filtres * (nb_pixels**2)\n",
    "        \n",
    "        self.modele_plein = nn.Sequential(\n",
    "            nn.Linear(self.nb_neurones_du_milieu, 10),\n",
    "            nn.LogSoftmax(dim=1)\n",
    "        )\n",
    "        \n",
    "    def forward(self, x):\n",
    "        # Propageons la «batch». Notez que nous devons redimensionner nos données consciencieusement\n",
    "        x0 = x.view(-1, 1, 28, 28)\n",
    "        x1 = self.modele_conv(x0)\n",
    "        x2 = x1.view(-1, self.nb_neurones_du_milieu)\n",
    "        x3 = self.modele_plein(x2)\n",
    "        return x3"
   ]
  },
  {
   "cell_type": "code",
   "execution_count": null,
   "metadata": {},
   "outputs": [],
   "source": [
    "mon_archi = Archi2CouchesCovolutives(couche1_nb_filtres=16, couche1_taille_noyau=9,\n",
    "                                     couche2_nb_filtres=32, couche2_taille_noyau=3)\n",
    "R = ReseauClassifGenerique(mon_archi, eta=0.1, alpha=0.1, nb_epoques=20, taille_batch=32)"
   ]
  },
  {
   "cell_type": "markdown",
   "metadata": {},
   "source": [
    "### Ajouter davantage de couches pleinement connectées dans la seconde partie du réseau\n",
    "\n",
    "Reprenons l'architecture `Archi2CouchesCovolutives` ci-haut et ajoutons-y une couche cachée pleinement connectée"
   ]
  },
  {
   "cell_type": "code",
   "execution_count": null,
   "metadata": {},
   "outputs": [],
   "source": [
    "class Archi2CouchesCovolutives2CouchesPC(nn.Module):\n",
    "    def __init__(self, couche1_nb_filtres=16, couche1_taille_noyau=9, \n",
    "                       couche2_nb_filtres=32, couche2_taille_noyau=3,\n",
    "                       couche3_nb_neurones=100):\n",
    "        # Initialisation de la classe de base nn.Module\n",
    "        super().__init__()\n",
    "        \n",
    "        # Créons deux couches de convolution \n",
    "        self.modele_conv = nn.Sequential(\n",
    "            # Première couche de convolution\n",
    "            nn.Conv2d(1, couche1_nb_filtres, kernel_size=couche1_taille_noyau),\n",
    "            nn.ReLU(),\n",
    "            nn.MaxPool2d(2),\n",
    "            # Deuxième couche de convolution\n",
    "            nn.Conv2d(couche1_nb_filtres, couche2_nb_filtres, kernel_size=couche2_taille_noyau),\n",
    "            nn.ReLU(),\n",
    "            nn.MaxPool2d(2),\n",
    "        )\n",
    "        \n",
    "        # La convolution est suivie d'une couche cachée pleinement connectée\n",
    "        nb_pixels = (28 - couche1_taille_noyau + 1) // 2\n",
    "        nb_pixels = (nb_pixels - couche2_taille_noyau + 1) // 2\n",
    "        self.nb_neurones_du_milieu = couche2_nb_filtres * (nb_pixels**2)\n",
    "        \n",
    "        self.modele_plein = nn.Sequential(\n",
    "            # NOUVEAUTÉ: Nouvelle couche cachée pleinement connectée avec activation ReLU\n",
    "            nn.Linear(self.nb_neurones_du_milieu, couche3_nb_neurones),  \n",
    "            nn.ReLU(),\n",
    "            # Couche de sortie\n",
    "            nn.Linear(couche3_nb_neurones, 10),\n",
    "            nn.LogSoftmax(dim=1)\n",
    "        )\n",
    "        \n",
    "    def forward(self, x):         \n",
    "        # Propageons la «batch». Notez que nous devons redimensionner nos données consciencieusement\n",
    "        x0 = x.view(-1, 1, 28, 28)\n",
    "        x1 = self.modele_conv(x0)\n",
    "        x2 = x1.view(-1, self.nb_neurones_du_milieu)\n",
    "        x3 = self.modele_plein(x2)\n",
    "        return x3"
   ]
  },
  {
   "cell_type": "code",
   "execution_count": null,
   "metadata": {},
   "outputs": [],
   "source": [
    "mon_archi = Archi2CouchesCovolutives2CouchesPC(couche1_nb_filtres=16, couche1_taille_noyau=9,\n",
    "                                               couche2_nb_filtres=32, couche2_taille_noyau=3,\n",
    "                                               couche3_nb_neurones=100)\n",
    "R = ReseauClassifGenerique(mon_archi, eta=0.1, alpha=0.1, nb_epoques=20, taille_batch=32)"
   ]
  },
  {
   "cell_type": "code",
   "execution_count": null,
   "metadata": {},
   "outputs": [],
   "source": []
  }
 ],
 "metadata": {
  "kernelspec": {
   "display_name": "Python 3",
   "language": "python",
   "name": "python3"
  },
  "language_info": {
   "codemirror_mode": {
    "name": "ipython",
    "version": 3
   },
   "file_extension": ".py",
   "mimetype": "text/x-python",
   "name": "python",
   "nbconvert_exporter": "python",
   "pygments_lexer": "ipython3",
   "version": "3.7.3"
  }
 },
 "nbformat": 4,
 "nbformat_minor": 2
}

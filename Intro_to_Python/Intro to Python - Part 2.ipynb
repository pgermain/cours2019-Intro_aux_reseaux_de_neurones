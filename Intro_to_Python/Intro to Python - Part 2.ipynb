{
 "cells": [
  {
   "cell_type": "markdown",
   "metadata": {},
   "source": [
    "# Introduction à Python  --  Partie 2: Fonctions et Classes\n",
    "\n",
    "Matériel de cours rédigé par Pascal Germain, 2019\n",
    "\n",
    "*********************"
   ]
  },
  {
   "cell_type": "markdown",
   "metadata": {},
   "source": [
    "## Fonctions"
   ]
  },
  {
   "cell_type": "markdown",
   "metadata": {},
   "source": [
    "Le mot-clé `def` permet de définir une fonction. Le mot-clé `return` termine son exécution et détermine la valeure de sortie."
   ]
  },
  {
   "cell_type": "code",
   "execution_count": null,
   "metadata": {},
   "outputs": [],
   "source": [
    "def fibonacci(nb_de_termes):\n",
    "    fib = [1, 1]\n",
    "    if nb_de_termes < 2:\n",
    "        return fib[0:nb_de_termes]\n",
    "    \n",
    "    for i in range(nb_de_termes-2):\n",
    "        element = fib[-2] + fib[-1]\n",
    "        fib.append(element)    \n",
    "    \n",
    "    return fib"
   ]
  },
  {
   "cell_type": "code",
   "execution_count": null,
   "metadata": {},
   "outputs": [],
   "source": [
    "fibonacci(10)"
   ]
  },
  {
   "cell_type": "code",
   "execution_count": null,
   "metadata": {},
   "outputs": [],
   "source": [
    "for nb in range(5):\n",
    "    print(nb, ':', fibonacci(nb))"
   ]
  },
  {
   "cell_type": "markdown",
   "metadata": {},
   "source": [
    "Le mot-clé `return` est toutefois facultatif."
   ]
  },
  {
   "cell_type": "code",
   "execution_count": null,
   "metadata": {},
   "outputs": [],
   "source": [
    "def afficher_fibonacci(nb_de_termes):\n",
    "    for terme in fibonacci(nb_de_termes):\n",
    "        print(terme)\n",
    "    \n",
    "afficher_fibonacci(12)"
   ]
  },
  {
   "cell_type": "markdown",
   "metadata": {},
   "source": [
    "On peut aussi définir des valeurs par défaut aux paramètres des fonctions."
   ]
  },
  {
   "cell_type": "code",
   "execution_count": null,
   "metadata": {},
   "outputs": [],
   "source": [
    "def fibonacci_general(nb_de_termes, premier_terme=1, second_terme=1):\n",
    "    fib = [premier_terme, second_terme]\n",
    "    if nb_de_termes < 2:\n",
    "        return fib[0:nb_de_termes]\n",
    "    \n",
    "    for i in range(nb_de_termes-2):\n",
    "        element = fib[-2] + fib[-1]\n",
    "        fib.append(element)    \n",
    "    \n",
    "    return fib"
   ]
  },
  {
   "cell_type": "code",
   "execution_count": null,
   "metadata": {},
   "outputs": [],
   "source": [
    "fibonacci_general(12)"
   ]
  },
  {
   "cell_type": "code",
   "execution_count": null,
   "metadata": {},
   "outputs": [],
   "source": [
    "fibonacci_general(12, .5)"
   ]
  },
  {
   "cell_type": "code",
   "execution_count": null,
   "metadata": {},
   "outputs": [],
   "source": [
    "fibonacci_general(12, 2, 2)"
   ]
  },
  {
   "cell_type": "code",
   "execution_count": null,
   "metadata": {},
   "outputs": [],
   "source": [
    "fibonacci_general(12,  second_terme=3)"
   ]
  },
  {
   "cell_type": "markdown",
   "metadata": {},
   "source": [
    "**Les paramètres d'une fonctions ne sont pas *typés*.** \n",
    "\n",
    "Rappellons que nous pouvons additionner des chaînes de caractères.\n",
    "L'expression `'salut' + ' toi!'` devient `'salut toi!'`"
   ]
  },
  {
   "cell_type": "code",
   "execution_count": null,
   "metadata": {},
   "outputs": [],
   "source": [
    "fibonacci_general(7, \" salut\", \" toi\")"
   ]
  },
  {
   "cell_type": "code",
   "execution_count": null,
   "metadata": {},
   "outputs": [],
   "source": [
    "liste_fib_ab = fibonacci_general(12, \"a\", \"b\")\n",
    "liste_fib_ab"
   ]
  },
  {
   "cell_type": "markdown",
   "metadata": {},
   "source": [
    "Nous pouvons facilement créer une fonction destinés à recevoir une autre fonction en argument."
   ]
  },
  {
   "cell_type": "code",
   "execution_count": null,
   "metadata": {},
   "outputs": [],
   "source": [
    "def appliquer_une_fonction_a_une_liste(une_fonction, une_liste):\n",
    "    nouvelle_liste = []\n",
    "    for valeur in une_liste:\n",
    "        nouvelle_valeur = une_fonction(valeur)\n",
    "        nouvelle_liste.append(nouvelle_valeur)\n",
    "    return nouvelle_liste"
   ]
  },
  {
   "cell_type": "code",
   "execution_count": null,
   "metadata": {},
   "outputs": [],
   "source": [
    "appliquer_une_fonction_a_une_liste(len, liste_fib_ab)"
   ]
  },
  {
   "cell_type": "markdown",
   "metadata": {},
   "source": [
    "**Une fonction peut retourner plusieurs valeurs sous la forme d'un tuple.**"
   ]
  },
  {
   "cell_type": "code",
   "execution_count": null,
   "metadata": {},
   "outputs": [],
   "source": [
    "def compter_a_et_b(mot):\n",
    "    nb_a = mot.count('a')\n",
    "    nb_b = mot.count('b')\n",
    "    return nb_a, nb_b"
   ]
  },
  {
   "cell_type": "code",
   "execution_count": null,
   "metadata": {},
   "outputs": [],
   "source": [
    "ma_paire = compter_a_et_b(\"Cet arbre agit en abat-jour. Il faut l'abattre, pardi!\")\n",
    "print(ma_paire)\n",
    "type(ma_paire)"
   ]
  },
  {
   "cell_type": "code",
   "execution_count": null,
   "metadata": {},
   "outputs": [],
   "source": [
    "compte_a, compte_b = compter_a_et_b(\"À la bonne heure, le compte est bon!\")\n",
    "print(compte_a)\n",
    "print(compte_b)\n",
    "type(compte_a)"
   ]
  },
  {
   "cell_type": "code",
   "execution_count": null,
   "metadata": {},
   "outputs": [],
   "source": [
    "appliquer_une_fonction_a_une_liste(compter_a_et_b, liste_fib_ab)  "
   ]
  },
  {
   "cell_type": "markdown",
   "metadata": {},
   "source": [
    "****\n",
    "## Fonctions anonymes\n",
    "\n",
    "Le mot-clé `lambda` permet d'écrire une fonction de manière concise."
   ]
  },
  {
   "cell_type": "code",
   "execution_count": null,
   "metadata": {},
   "outputs": [],
   "source": [
    "au_carre = lambda x : x ** 2\n",
    "au_carre(10)"
   ]
  },
  {
   "cell_type": "code",
   "execution_count": null,
   "metadata": {},
   "outputs": [],
   "source": [
    "type(au_carre)"
   ]
  },
  {
   "cell_type": "markdown",
   "metadata": {},
   "source": [
    "Ces fonctions sont dites *anonymes* car on peut les utiliser sans leur donner de nom. Cela permet de les utiliser comme arguments d'autres fonction, par exemple."
   ]
  },
  {
   "cell_type": "code",
   "execution_count": null,
   "metadata": {},
   "outputs": [],
   "source": [
    "liste_de_carre = appliquer_une_fonction_a_une_liste(lambda x : x ** 2, range(10))\n",
    "liste_de_carre"
   ]
  },
  {
   "cell_type": "markdown",
   "metadata": {},
   "source": [
    "****\n",
    "## Listes en compréhension"
   ]
  },
  {
   "cell_type": "markdown",
   "metadata": {},
   "source": [
    "Il existe une syntaxe particulière en python permettant d'accomplir le même travail que la fonction `appliquer_une_fonction_a_une_liste` défini ci-haut. Il s'agit des **listes en compréhension**."
   ]
  },
  {
   "cell_type": "code",
   "execution_count": null,
   "metadata": {},
   "outputs": [],
   "source": [
    "[len(mot) for mot in liste_fib_ab] "
   ]
  },
  {
   "cell_type": "code",
   "execution_count": null,
   "metadata": {},
   "outputs": [],
   "source": [
    "[compter_a_et_b(mot) for mot in liste_fib_ab] "
   ]
  },
  {
   "cell_type": "code",
   "execution_count": null,
   "metadata": {},
   "outputs": [],
   "source": [
    "[x ** 2 for x in range(10)] "
   ]
  },
  {
   "cell_type": "code",
   "execution_count": null,
   "metadata": {},
   "outputs": [],
   "source": [
    "# On peut également filtrer les éléments en ajoutant une condition\n",
    "[x ** 2 for x in range(10) if x % 2 == 0] "
   ]
  },
  {
   "cell_type": "markdown",
   "metadata": {},
   "source": [
    "**********************************\n",
    "## Classes et objets"
   ]
  },
  {
   "cell_type": "markdown",
   "metadata": {},
   "source": [
    "Python permet de développer dans le paradigme de programmation *orienté objet*. \n",
    "\n",
    "On défini d'abord une *classe*, qui est une structure de données représentant un concept. En Python, définir une classe équivaut à définir un nouveau type de donné. On pourra ensuite instancier plusieurs *objets* ayant pour type cette même classe. \n",
    "\n",
    "Ci-dessous, nous définissons une *classe* qui représente un vecteur."
   ]
  },
  {
   "cell_type": "code",
   "execution_count": null,
   "metadata": {},
   "outputs": [],
   "source": [
    "class vecteur:\n",
    "    def __init__(self, taille, valeur_initiale=0):\n",
    "        self.taille = taille\n",
    "        self.elements = [valeur_initiale] * taille\n",
    "\n",
    "    def afficher(self):\n",
    "        print(self.elements)\n",
    "        \n",
    "    def copie(self):\n",
    "        nouveau = vecteur(self.taille)\n",
    "        nouveau.elements = self.elements.copy()\n",
    "        return nouveau\n",
    "    \n",
    "    def acces(self, index):\n",
    "        return self.elements[index]\n",
    "    \n",
    "    def modif(self, index, valeur):\n",
    "        self.elements[index] = valeur\n",
    "    \n",
    "    def addition(self, valeur):\n",
    "        for i in range(self.taille):\n",
    "            self.elements[i] += valeur\n",
    "        \n",
    "    def norme(self):\n",
    "        cumul = 0.0\n",
    "        for x in self.elements:\n",
    "            cumul += x ** 2\n",
    "        return cumul ** 0.5       "
   ]
  },
  {
   "cell_type": "markdown",
   "metadata": {},
   "source": [
    "**Quelques remarques:**\n",
    "* Une classe est définie à l'aide du mot-clé `class`.\n",
    "* Une classe contient une ou plusieurs *méthodes membres*, définies par le mot-clé `def`.\n",
    "* Le premier paramètre de chaque *méthode membre* doit être la variable `self`. Lorsqu’un objet est créé, le mot-clé `self` réfère explicitement à l'objet courant.\n",
    "* La méthode `__init__(self, ...)` sera appelé par l'interpréteur Python lors de la création d'un objet. On y inclut les commandes à exécuter pour initialiser l'objet. \n",
    "* Il suffit d'utiliser la syntaxe `self.nom_de_variable = valeur` pour créer ou modifier une *variable membre* à l'objet. Typiquement, on initialise les variables membres dans la fonction `__init__(self, ...)`.\n",
    "\n",
    "**Notez bien**: Dans le cas d'une classe, on préfère employer le terme *méthode* plutôt que *fonction*. En effet, une méthode s'éloigne du concept mathématique de fonction, car elle ne fait pas que recevoir des arguments et produire une valeur de sortie, mais modifie possiblement l'état interne de son objet (c'est-à-dire les variables membres)."
   ]
  },
  {
   "cell_type": "markdown",
   "metadata": {},
   "source": [
    "Créons un premier *objet* appartenant à la classe `vecteur`. Ce faisant, l'interpréteur Python exécutera la fonction d'intialisation `__init__` avec les paramètres spécifiés (ci-bas, `taille=10`) et les valeurs par défaut sinon (ci-bas, `valeur_initiale=0`)"
   ]
  },
  {
   "cell_type": "code",
   "execution_count": null,
   "metadata": {},
   "outputs": [],
   "source": [
    "vec_v = vecteur(10)"
   ]
  },
  {
   "cell_type": "code",
   "execution_count": null,
   "metadata": {},
   "outputs": [],
   "source": [
    "type(vec_v)"
   ]
  },
  {
   "cell_type": "markdown",
   "metadata": {},
   "source": [
    "Inspectons les valeurs de l'objet nouvellement créé."
   ]
  },
  {
   "cell_type": "code",
   "execution_count": null,
   "metadata": {},
   "outputs": [],
   "source": [
    "vec_v.taille"
   ]
  },
  {
   "cell_type": "code",
   "execution_count": null,
   "metadata": {},
   "outputs": [],
   "source": [
    "vec_v.elements"
   ]
  },
  {
   "cell_type": "markdown",
   "metadata": {},
   "source": [
    "Exécutons une fonction membre de l'objet `vec_v`"
   ]
  },
  {
   "cell_type": "code",
   "execution_count": null,
   "metadata": {},
   "outputs": [],
   "source": [
    "vec_v.afficher()"
   ]
  },
  {
   "cell_type": "code",
   "execution_count": null,
   "metadata": {},
   "outputs": [],
   "source": [
    "vec_v.norme()"
   ]
  },
  {
   "cell_type": "code",
   "execution_count": null,
   "metadata": {},
   "outputs": [],
   "source": [
    "vec_v.modif(2, 3)"
   ]
  },
  {
   "cell_type": "code",
   "execution_count": null,
   "metadata": {},
   "outputs": [],
   "source": [
    "vec_v.afficher()\n",
    "vec_v.norme()"
   ]
  },
  {
   "cell_type": "code",
   "execution_count": null,
   "metadata": {},
   "outputs": [],
   "source": [
    "vec_v.addition(-0.5)\n",
    "vec_v.afficher()\n",
    "vec_v.norme()"
   ]
  },
  {
   "cell_type": "markdown",
   "metadata": {},
   "source": [
    "Attention à l'opérateur d'affectation «`=`», ce n'est pas une copie!"
   ]
  },
  {
   "cell_type": "code",
   "execution_count": null,
   "metadata": {},
   "outputs": [],
   "source": [
    "vec_v = vecteur(10)\n",
    "vec_w = vec_v"
   ]
  },
  {
   "cell_type": "code",
   "execution_count": null,
   "metadata": {},
   "outputs": [],
   "source": [
    "vec_v.addition(4)\n",
    "vec_w.modif(2, 3)"
   ]
  },
  {
   "cell_type": "code",
   "execution_count": null,
   "metadata": {},
   "outputs": [],
   "source": [
    "print('vec_v =', vec_v.elements)\n",
    "print('vec_w =', vec_w.elements)"
   ]
  },
  {
   "cell_type": "code",
   "execution_count": null,
   "metadata": {},
   "outputs": [],
   "source": [
    "vec_v = vecteur(10)\n",
    "vec_w = vec_v.copie()"
   ]
  },
  {
   "cell_type": "code",
   "execution_count": null,
   "metadata": {},
   "outputs": [],
   "source": [
    "vec_v.addition(4)\n",
    "vec_w.modif(2, 3)"
   ]
  },
  {
   "cell_type": "code",
   "execution_count": null,
   "metadata": {},
   "outputs": [],
   "source": [
    "print('vec_v =', vec_v.elements)\n",
    "print('vec_w =', vec_w.elements)"
   ]
  },
  {
   "cell_type": "markdown",
   "metadata": {},
   "source": [
    "On peut bien sûr définir des fonctions dont les arguments sont des objets,"
   ]
  },
  {
   "cell_type": "code",
   "execution_count": null,
   "metadata": {},
   "outputs": [],
   "source": [
    "def produit_scalaire(vecteur_a, vecteur_b):\n",
    "    assert vecteur_a.taille == vecteur_b.taille, \"Les vecteurs ne sont pas de même taille.\"\n",
    "    somme = 0\n",
    "    for i in range(vecteur_a.taille):\n",
    "        somme += vecteur_a.acces(i) * vecteur_b.acces(i)\n",
    "    \n",
    "    return somme"
   ]
  },
  {
   "cell_type": "code",
   "execution_count": null,
   "metadata": {},
   "outputs": [],
   "source": [
    "produit_scalaire(vec_v, vec_w)"
   ]
  },
  {
   "cell_type": "code",
   "execution_count": null,
   "metadata": {},
   "outputs": [],
   "source": [
    "vec_a = vecteur(3, 3)\n",
    "vec_b = vecteur(4, 4)\n",
    "print('vec_a =', vec_a.elements)\n",
    "print('vec_b =', vec_b.elements)\n",
    "produit_scalaire(vec_a, vec_b)"
   ]
  },
  {
   "cell_type": "code",
   "execution_count": null,
   "metadata": {},
   "outputs": [],
   "source": [
    "vec_a = vecteur(3, 3)\n",
    "vec_b = vecteur(3, 4)\n",
    "print('vec_a =', vec_a.elements)\n",
    "print('vec_b =', vec_b.elements)\n",
    "produit_scalaire(vec_a, vec_b)"
   ]
  },
  {
   "cell_type": "code",
   "execution_count": null,
   "metadata": {},
   "outputs": [],
   "source": [
    "vec_a = vecteur(3, 3)\n",
    "vec_a.afficher()\n",
    "produit_scalaire(vec_a, vec_a)"
   ]
  },
  {
   "cell_type": "code",
   "execution_count": null,
   "metadata": {},
   "outputs": [],
   "source": [
    "# Un petit «sanity check»\n",
    "vec_a.norme() ** 2"
   ]
  },
  {
   "cell_type": "markdown",
   "metadata": {},
   "source": [
    "*********\n",
    "# Exercises"
   ]
  },
  {
   "cell_type": "markdown",
   "metadata": {},
   "source": [
    "### Exercise 1 \n",
    "\n",
    "Here is the draft of a class `matrice`, which you've been asked to complete. More precisely, you have to remplace key-words `pass` inside the following methods by the desired code:\n",
    "\n",
    "* The method `copie` has to return a new matrix that is a copy of the actual matrix.\n",
    "* The method `acces` has to return the value of $i$ row and $j$ column of the actual matrix.\n",
    "* The method `modif` has to assign an argument `valeur` to the element located at $i$ row and $j$ column of the actual matrix.\n",
    "* The methof `addition` has to add `valeur` to all elements of the actual matrix."
   ]
  },
  {
   "cell_type": "code",
   "execution_count": null,
   "metadata": {},
   "outputs": [],
   "source": [
    "class matrice:\n",
    "    def __init__(self, nb_lignes, nb_colonnes, valeur_initiale=0):\n",
    "        self.nb_lignes = nb_lignes\n",
    "        self.nb_colonnes = nb_colonnes\n",
    "        self.elements = []\n",
    "        for i in range(nb_lignes):\n",
    "            self.elements.append([valeur_initiale] * nb_colonnes)\n",
    "            \n",
    "    def afficher(self):\n",
    "        for ligne in self.elements:\n",
    "            print(ligne)\n",
    "            \n",
    "    def copie(self):\n",
    "        pass \n",
    "    \n",
    "    def acces(self, index_i, index_j):\n",
    "        pass\n",
    "    \n",
    "    def modif(self, index_i, index_j, valeur):\n",
    "        pass\n",
    "    \n",
    "    def addition(self, valeur):\n",
    "        pass"
   ]
  },
  {
   "cell_type": "markdown",
   "metadata": {},
   "source": [
    "### Validation of the exercise 1\n",
    "\n",
    "The code below allows you to validate some methodes of the new class (others methods will be validates during the exercise 2)."
   ]
  },
  {
   "cell_type": "code",
   "execution_count": null,
   "metadata": {},
   "outputs": [],
   "source": [
    "def valider_egaliter_matrices(matrice_A, matrice_B):\n",
    "    assert matrice_A.nb_lignes == matrice_B.nb_lignes, \"Matrices don't have the same number of rows.\"\n",
    "    assert matrice_A.nb_colonnes == matrice_B.nb_colonnes, \"Matrices don't have the same number of columns.\"    \n",
    "    assert matrice_A.elements == matrice_B.elements, \"Elements of matrices aren't equal.\"\n",
    "    \n",
    "mat_A = matrice(3, 4)\n",
    "mat_B = mat_A.copie()\n",
    "mat_B.addition(5)\n",
    "\n",
    "print('matrix A')\n",
    "mat_A.afficher()\n",
    "\n",
    "print('matrix B')\n",
    "mat_B.afficher()\n",
    "    \n",
    "valider_egaliter_matrices(mat_A, matrice(3,4))\n",
    "valider_egaliter_matrices(mat_B, matrice(3,4,5))\n",
    "print('**Done**!')"
   ]
  },
  {
   "cell_type": "markdown",
   "metadata": {},
   "source": [
    "### Exercise 2\n",
    "\n",
    "$\\newcommand{\\Abf}{\\mathbf{A}}\n",
    "\\newcommand{\\Bbf}{\\mathbf{B}}\n",
    "\\newcommand{\\Cbf}{\\mathbf{C}}\n",
    "\\newcommand{\\Rbb}{\\mathbf{R}}\n",
    "$ \n",
    "Complete the function below, which has to return the product of two matrices [produit matriciel](https://fr.wikipedia.org/wiki/Produit_matriciel)."
   ]
  },
  {
   "cell_type": "code",
   "execution_count": null,
   "metadata": {},
   "outputs": [],
   "source": [
    "def produit_matriciel(matrice_A, matrice_B):\n",
    "    assert matrice_A.nb_colonnes == matrice_B.nb_lignes, 'the dimensions of matrices are not correct.'\n",
    "    matrice_C = matrice(matrice_A.nb_lignes, matrice_B.nb_colonnes)\n",
    "    \n",
    "    # Complete\n",
    "    \n",
    "    return matrice_C"
   ]
  },
  {
   "cell_type": "markdown",
   "metadata": {},
   "source": [
    "### Validation of the exercise 2\n",
    "\n",
    "The code below allows you to validate your response. Check that running each line of the code below doesn't produce an error."
   ]
  },
  {
   "cell_type": "code",
   "execution_count": null,
   "metadata": {},
   "outputs": [],
   "source": [
    "def valider_egaliter_matrices(matrice_A, matrice_B):\n",
    "    assert matrice_A.nb_lignes == matrice_B.nb_lignes, \"Matrices don't have the same number of rows.\"\n",
    "    assert matrice_A.nb_colonnes == matrice_B.nb_colonnes, \"Matrices don't have the same number of columns.\"    \n",
    "    assert matrice_A.elements == matrice_B.elements, \"Elements of matrices are different.\"\n",
    "    \n",
    "def test_produit_matriciel(matrice_A, matrice_B, matrice_solution):\n",
    "    print('matrix A')\n",
    "    matrice_A.afficher()\n",
    "\n",
    "    print('matrix B')\n",
    "    matrice_B.afficher()\n",
    "\n",
    "    print('A*B')\n",
    "    matrice_AB = produit_matriciel(matrice_A, matrice_B)\n",
    "    matrice_AB.afficher()\n",
    "\n",
    "    print('\\nValidation')\n",
    "    valider_egaliter_matrices(matrice_AB, matrice_solution)\n",
    "    print('**Done**\\n')\n",
    "    \n",
    "mat_A = matrice(2, 3, 1.0)\n",
    "mat_B = matrice(3, 5, 3.0)\n",
    "\n",
    "test_produit_matriciel(mat_A, mat_B, matrice(2, 5, 9))"
   ]
  },
  {
   "cell_type": "code",
   "execution_count": null,
   "metadata": {},
   "outputs": [],
   "source": [
    "mat_A = matrice(2, 1, -1.0)\n",
    "mat_B = matrice(1, 3, 1.0)\n",
    "\n",
    "test_produit_matriciel(mat_A, mat_B, matrice(2, 3, -1.0))"
   ]
  },
  {
   "cell_type": "code",
   "execution_count": null,
   "metadata": {},
   "outputs": [],
   "source": [
    "mat_A = matrice(1, 5, -1.0)\n",
    "mat_B = matrice(5, 1, 1.0)\n",
    "\n",
    "test_produit_matriciel(mat_A, mat_B, matrice(1, 1, -5.0))"
   ]
  },
  {
   "cell_type": "code",
   "execution_count": null,
   "metadata": {},
   "outputs": [],
   "source": [
    "mat_A = matrice(5, 5, 0)\n",
    "mat_B = mat_A.copie() \n",
    "\n",
    "for i in range(5):\n",
    "    mat_A.modif(i, i, 1) \n",
    "    mat_B.modif(i, (i+2)%5, 2*i+1)\n",
    "\n",
    "test_produit_matriciel(mat_A, mat_B, mat_B)\n",
    "test_produit_matriciel(mat_B, mat_A, mat_B)"
   ]
  },
  {
   "cell_type": "code",
   "execution_count": null,
   "metadata": {},
   "outputs": [],
   "source": []
  },
  {
   "cell_type": "code",
   "execution_count": null,
   "metadata": {},
   "outputs": [],
   "source": []
  }
 ],
 "metadata": {
  "kernelspec": {
   "display_name": "Python 3",
   "language": "python",
   "name": "python3"
  },
  "language_info": {
   "codemirror_mode": {
    "name": "ipython",
    "version": 3
   },
   "file_extension": ".py",
   "mimetype": "text/x-python",
   "name": "python",
   "nbconvert_exporter": "python",
   "pygments_lexer": "ipython3",
   "version": "3.8.3"
  }
 },
 "nbformat": 4,
 "nbformat_minor": 2
}

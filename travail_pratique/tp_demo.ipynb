{
 "cells": [
  {
   "cell_type": "markdown",
   "metadata": {},
   "source": [
    "# Introduction aux réseaux de neurones : Préambule au travail pratique\n",
    "Matériel de cours rédigé par Pascal Germain, 2019\n",
    "************"
   ]
  },
  {
   "cell_type": "code",
   "execution_count": null,
   "metadata": {},
   "outputs": [],
   "source": [
    "%matplotlib inline\n",
    "from matplotlib import pyplot as plt\n",
    "import numpy as np\n",
    "import torch\n",
    "from torch import nn\n",
    "from sklearn.model_selection import train_test_split\n",
    "from sklearn.metrics import accuracy_score"
   ]
  },
  {
   "cell_type": "markdown",
   "metadata": {},
   "source": [
    "Nous vous fournissons un module `office_utils` permettant de charger l'ensemble *Office31* et d'afficher les images qu'il contient."
   ]
  },
  {
   "cell_type": "code",
   "execution_count": null,
   "metadata": {},
   "outputs": [],
   "source": [
    "from office_utils import charger_office, afficher_grille_office"
   ]
  },
  {
   "cell_type": "code",
   "execution_count": null,
   "metadata": {},
   "outputs": [],
   "source": [
    "charger_office?"
   ]
  },
  {
   "cell_type": "markdown",
   "metadata": {},
   "source": [
    "Nous vous suggérons de travailler seulement avec les cinq premières classes."
   ]
  },
  {
   "cell_type": "code",
   "execution_count": null,
   "metadata": {},
   "outputs": [],
   "source": [
    "repertoire_office = '../data/office31/'\n",
    "classes_office = range(5)\n",
    "\n",
    "data_x, data_y = charger_office(repertoire_office, classes_office)"
   ]
  },
  {
   "cell_type": "markdown",
   "metadata": {},
   "source": [
    "Séparons aléatoirement les données en un ensemble d'apprentissage et un ensemble de test de tailles équivalentes (à l'aide des outils de *scikit-learn*).\n",
    "Nous vous conseillons d'utiliser le même partitionnement des données pour votre projet."
   ]
  },
  {
   "cell_type": "code",
   "execution_count": null,
   "metadata": {},
   "outputs": [],
   "source": [
    "train_x, test_x, train_y, test_y = train_test_split(data_x, data_y, test_size=0.25, random_state=42)\n",
    "print('train_x:', train_x.shape)\n",
    "print('test_x:', test_x.shape)\n",
    "print('train_y:', train_y.shape)\n",
    "print('test_y:', test_y.shape)"
   ]
  },
  {
   "cell_type": "markdown",
   "metadata": {},
   "source": [
    "Affichons un échantillon de 24 images sélectionnées aléatoirement dans l'ensemble d'apprentissage. "
   ]
  },
  {
   "cell_type": "code",
   "execution_count": null,
   "metadata": {
    "scrolled": true
   },
   "outputs": [],
   "source": [
    "indices_aleatoires = np.random.randint(len(train_y), size=24)\n",
    "afficher_grille_office(train_x[indices_aleatoires])"
   ]
  },
  {
   "cell_type": "markdown",
   "metadata": {},
   "source": [
    "## Apprentissage à l'aide d'un réseau de neurones *pleinement connecté*"
   ]
  },
  {
   "cell_type": "markdown",
   "metadata": {},
   "source": [
    "Comme dans les travaux dirigés, nous utiliserons une classe `ReseauClassifGenerique` pour apprendre notre réseau de neurones. Consultez les commentaires de la classe `ReseauClassifGenerique` pour plus de détails."
   ]
  },
  {
   "cell_type": "code",
   "execution_count": null,
   "metadata": {},
   "outputs": [],
   "source": [
    "from reseau_classif_generique import ReseauClassifGenerique"
   ]
  },
  {
   "cell_type": "code",
   "execution_count": null,
   "metadata": {},
   "outputs": [],
   "source": [
    "ReseauClassifGenerique?"
   ]
  },
  {
   "cell_type": "markdown",
   "metadata": {},
   "source": [
    "Un objet `ReseauClassifGenerique` doit être instancié à l'aide d'un `modele` héritant de la classe `torch.nn.Module` (voir le TD de la semaine 4 pour plus de détails). \n",
    "\n",
    "Créons une architecture prenant une image en entrée (sous la forme d'un vecteur de $3\\times 300 \\times 300$ éléments, possédant $5$ sorties (correspondant aux cinq classes d'images) et $20$ neurones sur la couche cachée."
   ]
  },
  {
   "cell_type": "code",
   "execution_count": null,
   "metadata": {},
   "outputs": [],
   "source": [
    "nb_entrees = 3* 300 * 300\n",
    "nb_neurones_cachees = 20\n",
    "nb_sorties = 5\n",
    "\n",
    "modele_plein = nn.Sequential(\n",
    "    nn.Linear(nb_entrees, nb_neurones_cachees),\n",
    "    nn.ReLU(),\n",
    "    nn.Linear(nb_neurones_cachees, nb_sorties),\n",
    "    nn.LogSoftmax(dim=1)\n",
    ")\n"
   ]
  },
  {
   "cell_type": "markdown",
   "metadata": {},
   "source": [
    "Exécutons le processus d'apprentissage. Notez que les paramètres de descente en gradient choisis (`eta`, `alpha`, `taille_batch`) ne sont pas nécessairement  optimaux. N'hésitez pas à en suggérer des meilleurs dans votre rapport!"
   ]
  },
  {
   "cell_type": "code",
   "execution_count": null,
   "metadata": {},
   "outputs": [],
   "source": [
    "# Initialisons le réseau de neurones.\n",
    "reseau_pc = ReseauClassifGenerique(modele_plein, eta=1e-5, alpha=0.01, nb_epoques=500, taille_batch=8, \n",
    "                           fraction_validation=.2, patience=20)\n",
    "\n",
    "# Exécutons l'optimisation\n",
    "reseau_pc.apprentissage(train_x, train_y)"
   ]
  },
  {
   "cell_type": "markdown",
   "metadata": {},
   "source": [
    "Vérifions l'acuité du réseau de neurones pleinement connecté sur l'ensemble test. "
   ]
  },
  {
   "cell_type": "code",
   "execution_count": null,
   "metadata": {},
   "outputs": [],
   "source": [
    "train_pred = reseau_pc.prediction(train_x)\n",
    "test_pred = reseau_pc.prediction(test_x)\n",
    "print('Précision train:', accuracy_score(train_y, train_pred) )\n",
    "print('Précision test :', accuracy_score(test_y, test_pred))"
   ]
  },
  {
   "cell_type": "markdown",
   "metadata": {},
   "source": [
    "La précision sur l'ensemble test devrait se situer entre de 60% et 70%, selon les aléas de la descente en gradient stochastique. Vous pouvez répéter l'expérience en exécutant les deux dernières cellules de code."
   ]
  },
  {
   "cell_type": "markdown",
   "metadata": {},
   "source": [
    "## Calculer le nombre de paramètres du modèle\n",
    "\n",
    "Dans l'énoncé du projet, nous vous demandons de tenir compte du nombre de paramètres que votre réseau de neurones doit optimiser. Nous vous fournissons ici une fonction `compter_parametres` qui parcourt les structures de données de pyTorch pour obtenir ce nombre de paramètres, et ainsi valider votre calcul."
   ]
  },
  {
   "cell_type": "code",
   "execution_count": null,
   "metadata": {},
   "outputs": [],
   "source": [
    "def compter_parametres(modele):\n",
    "    \"\"\"Calcule le nombre de paramètres à optimiser dans l'architecture d'un réseau\"\"\"\n",
    "    somme = 0\n",
    "    for params in modele.parameters():\n",
    "        nb = 1\n",
    "        for dimension in params.shape:\n",
    "            nb *= dimension\n",
    "        somme += nb\n",
    "        \n",
    "    return somme"
   ]
  },
  {
   "cell_type": "code",
   "execution_count": null,
   "metadata": {},
   "outputs": [],
   "source": [
    "compter_parametres(modele_plein)"
   ]
  },
  {
   "cell_type": "markdown",
   "metadata": {},
   "source": [
    "**Notez bien:** Votre rapport ne doit pas seulement indiquer le total du nombre de paramètres à optimiser, mais détailler la répartition des paramètres pour chaque couche, en tenant compte de l'architecture de votre réseau.\n",
    "\n",
    "Ainsi, l'architecture pleinement connectée représentée par l'objet `archi_pc` contient $5\\,400\\,125$ paramètres, ce qui correspond au total des:\n",
    "* Couche cachée: $[270\\,000 \\mbox{ entrées}] \\times [20 \\mbox{ neurones}] + [20 \\mbox{ valeurs de biais}] = 5\\,400\\,020 \\mbox{ paramètres}.$\n",
    "* Couche de sortie: $[20 \\mbox{ entrées}] \\times [5 \\mbox{ neurones}] + [5 \\mbox{ valeurs de biais}] = 105 \\mbox{ paramètres}.$"
   ]
  },
  {
   "cell_type": "code",
   "execution_count": null,
   "metadata": {},
   "outputs": [],
   "source": [
    "(3*300*300)*20+20 + 20*5+5  "
   ]
  }
 ],
 "metadata": {
  "kernelspec": {
   "display_name": "Python 3",
   "language": "python",
   "name": "python3"
  },
  "language_info": {
   "codemirror_mode": {
    "name": "ipython",
    "version": 3
   },
   "file_extension": ".py",
   "mimetype": "text/x-python",
   "name": "python",
   "nbconvert_exporter": "python",
   "pygments_lexer": "ipython3",
   "version": "3.7.3"
  }
 },
 "nbformat": 4,
 "nbformat_minor": 2
}
